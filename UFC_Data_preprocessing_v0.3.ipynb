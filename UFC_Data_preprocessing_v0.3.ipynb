{
 "cells": [
  {
   "cell_type": "code",
   "execution_count": 2,
   "metadata": {
    "pycharm": {
     "name": "#%%\n"
    }
   },
   "outputs": [],
   "source": [
    "import pandas as pd\n",
    "import json\n",
    "from pandas import json_normalize\n",
    "from tqdm import tqdm\n",
    "#from tqdm import tqdm_notebook as tqdm\n",
    "import numpy as np\n",
    "import ast\n",
    "\n",
    "\n",
    "pd.set_option('display.precision',6)\n",
    "pd.set_option('display.max_columns', None)\n",
    "pd.options.mode.chained_assignment = None"
   ]
  },
  {
   "cell_type": "code",
   "execution_count": 3,
   "metadata": {
    "pycharm": {
     "name": "#%%\n"
    }
   },
   "outputs": [],
   "source": [
    "PATH='C:/Projects_0/hack/UFC/'          #Local\n",
    "#PATH = ''                              #Kaggle"
   ]
  },
  {
   "cell_type": "code",
   "execution_count": 4,
   "metadata": {
    "pycharm": {
     "name": "#%%\n"
    }
   },
   "outputs": [],
   "source": [
    "#fighters_df = pd.read_csv(PATH+'data/0.fighters_raw.csv', index_col=0)\n",
    "fighters_df = pd.read_csv('data/0.fighters_raw.csv', index_col=0)\n",
    "fighters_df['dateOfBirth'] = pd.to_datetime(fighters_df['dateOfBirth'])\n",
    "fighters_df['birthYear'] = fighters_df['dateOfBirth'].dt.year\n",
    "use_cols = ['name', 'armSpan', 'city', 'country', 'dateOfBirth',\n",
    "            'height', 'legSwing', 'weight', 'timezone', 'weightCategory.name']"
   ]
  },
  {
   "cell_type": "code",
   "execution_count": 5,
   "metadata": {
    "pycharm": {
     "name": "#%%\n"
    }
   },
   "outputs": [
    {
     "data": {
      "text/plain": "                                                                                241   \\\narmSpan                                                                        177.8   \navgFightTime                                                                   13:18   \ncity                                                                         Tijuana   \ncountry                                                                       Mexico   \ndateOfBirth                                                      1993-12-07 00:00:00   \ndisciplines                                                                       []   \ndraws                                                                              1   \nheight                                                                        170.18   \nid                                                                               242   \nknockdownsPerFight                                                              0.23   \nlegSwing                                                                       96.52   \nlooses                                                                             5   \nmethods.looseMethods                                                             NaN   \nmethods.looseMethods.DEC                                                         5.0   \nmethods.looseMethods.DQ                                                          NaN   \nmethods.looseMethods.KO                                                          NaN   \nmethods.looseMethods.SUB                                                         2.0   \nmethods.winMethods                                                               NaN   \nmethods.winMethods.DEC                                                           5.0   \nmethods.winMethods.DQ                                                            NaN   \nmethods.winMethods.KO                                                            3.0   \nmethods.winMethods.SUB                                                          10.0   \nname                                                                  Brandon Moreno   \nphotos                             [{'url': 'http://bet2face.com/uploads/images/f...   \nrank                                                                               1   \nsigStrikesAccuracy                                                              34.0   \nsignificantStrikesDefendPercent                                                 63.0   \nsignificantStrikesLandPerMinute                                                 2.58   \nsignificantStrikesMissedPerMinute                                               2.83   \nsubmissionAttemptsPer15minutes                                                   0.7   \ntakedownsAccuracy                                                               43.0   \ntakedownsDefendPercent                                                          62.0   \ntakedownsPer15min                                                               2.39   \ntimezone                                                             America/Tijuana   \nweight                                                                          56.7   \nweightCategory.id                                                                  2   \nweightCategory.name                                                 Наилегчайший вес   \nwins                                                                              15   \nbirthYear                                                                     1993.0   \n\n                                                                                281   \\\narmSpan                                                                        165.1   \navgFightTime                                                                   09:00   \ncity                                                                         Hanford   \ncountry                                                                United States   \ndateOfBirth                                                      1992-03-21 00:00:00   \ndisciplines                                                                       []   \ndraws                                                                              0   \nheight                                                                        167.64   \nid                                                                               282   \nknockdownsPerFight                                                              0.33   \nlegSwing                                                                       96.52   \nlooses                                                                             5   \nmethods.looseMethods                                                             NaN   \nmethods.looseMethods.DEC                                                         NaN   \nmethods.looseMethods.DQ                                                          NaN   \nmethods.looseMethods.KO                                                          1.0   \nmethods.looseMethods.SUB                                                         2.0   \nmethods.winMethods                                                               NaN   \nmethods.winMethods.DEC                                                           3.0   \nmethods.winMethods.DQ                                                            NaN   \nmethods.winMethods.KO                                                            2.0   \nmethods.winMethods.SUB                                                           3.0   \nname                                                                      Alex Perez   \nphotos                             [{'url': 'http://bet2face.com/uploads/images/f...   \nrank                                                                               4   \nsigStrikesAccuracy                                                              48.0   \nsignificantStrikesDefendPercent                                                 61.0   \nsignificantStrikesLandPerMinute                                                 4.68   \nsignificantStrikesMissedPerMinute                                               3.11   \nsubmissionAttemptsPer15minutes                                                   1.2   \ntakedownsAccuracy                                                               47.0   \ntakedownsDefendPercent                                                          87.0   \ntakedownsPer15min                                                               3.13   \ntimezone                                                            America/New_York   \nweight                                                                         61.24   \nweightCategory.id                                                                  2   \nweightCategory.name                                                 Наилегчайший вес   \nwins                                                                              22   \nbirthYear                                                                     1992.0   \n\n                                                                                405   \\\narmSpan                                                                       172.72   \navgFightTime                                                                   12:07   \ncity                                                                             NaN   \ncountry                                                                       Brazil   \ndateOfBirth                                                      1987-12-18 00:00:00   \ndisciplines                                                                       []   \ndraws                                                                              0   \nheight                                                                         165.1   \nid                                                                               406   \nknockdownsPerFight                                                              1.03   \nlegSwing                                                                       96.52   \nlooses                                                                             1   \nmethods.looseMethods                                                             NaN   \nmethods.looseMethods.DEC                                                         1.0   \nmethods.looseMethods.DQ                                                          NaN   \nmethods.looseMethods.KO                                                          NaN   \nmethods.looseMethods.SUB                                                         NaN   \nmethods.winMethods                                                               NaN   \nmethods.winMethods.DEC                                                           3.0   \nmethods.winMethods.DQ                                                            NaN   \nmethods.winMethods.KO                                                            9.0   \nmethods.winMethods.SUB                                                           8.0   \nname                                                             Deiveson Figueiredo   \nphotos                             [{'url': 'http://bet2face.com/uploads/images/f...   \nrank                                                                               0   \nsigStrikesAccuracy                                                              52.0   \nsignificantStrikesDefendPercent                                                 53.0   \nsignificantStrikesLandPerMinute                                                 2.44   \nsignificantStrikesMissedPerMinute                                                2.4   \nsubmissionAttemptsPer15minutes                                                   2.4   \ntakedownsAccuracy                                                               47.0   \ntakedownsDefendPercent                                                          59.0   \ntakedownsPer15min                                                               1.78   \ntimezone                                                           America/Sao_Paulo   \nweight                                                                          56.7   \nweightCategory.id                                                                  2   \nweightCategory.name                                                 Наилегчайший вес   \nwins                                                                              17   \nbirthYear                                                                     1987.0   \n\n                                                                                441   \\\narmSpan                                                                        177.8   \navgFightTime                                                                   07:09   \ncity                                                                             NaN   \ncountry                                                                United States   \ndateOfBirth                                                      1990-01-15 00:00:00   \ndisciplines                                                                       []   \ndraws                                                                              0   \nheight                                                                        172.72   \nid                                                                               442   \nknockdownsPerFight                                                               0.0   \nlegSwing                                                                       96.52   \nlooses                                                                             4   \nmethods.looseMethods                                                             NaN   \nmethods.looseMethods.DEC                                                         1.0   \nmethods.looseMethods.DQ                                                          NaN   \nmethods.looseMethods.KO                                                          4.0   \nmethods.looseMethods.SUB                                                         2.0   \nmethods.winMethods                                                               NaN   \nmethods.winMethods.DEC                                                           4.0   \nmethods.winMethods.DQ                                                            NaN   \nmethods.winMethods.KO                                                            3.0   \nmethods.winMethods.SUB                                                          16.0   \nname                                                                    Matt Schnell   \nphotos                             [{'url': 'http://bet2face.com/uploads/images/f...   \nrank                                                                               7   \nsigStrikesAccuracy                                                              34.0   \nsignificantStrikesDefendPercent                                                 62.0   \nsignificantStrikesLandPerMinute                                                 3.64   \nsignificantStrikesMissedPerMinute                                               3.69   \nsubmissionAttemptsPer15minutes                                                   1.8   \ntakedownsAccuracy                                                               40.0   \ntakedownsDefendPercent                                                          58.0   \ntakedownsPer15min                                                                0.7   \ntimezone                                                            America/New_York   \nweight                                                                          56.7   \nweightCategory.id                                                                  2   \nweightCategory.name                                                 Наилегчайший вес   \nwins                                                                              14   \nbirthYear                                                                     1990.0   \n\n                                                                                475   \\\narmSpan                                                                       170.18   \navgFightTime                                                                   11:58   \ncity                                                                  Rio de Janeiro   \ncountry                                                                       Brazil   \ndateOfBirth                                                      1990-04-16 00:00:00   \ndisciplines                                                                       []   \ndraws                                                                              0   \nheight                                                                         165.1   \nid                                                                               476   \nknockdownsPerFight                                                              0.25   \nlegSwing                                                                       91.44   \nlooses                                                                             4   \nmethods.looseMethods                                                             NaN   \nmethods.looseMethods.DEC                                                         4.0   \nmethods.looseMethods.DQ                                                          NaN   \nmethods.looseMethods.KO                                                          NaN   \nmethods.looseMethods.SUB                                                         NaN   \nmethods.winMethods                                                               NaN   \nmethods.winMethods.DEC                                                           4.0   \nmethods.winMethods.DQ                                                            NaN   \nmethods.winMethods.KO                                                            2.0   \nmethods.winMethods.SUB                                                           4.0   \nname                                                               Alexandre Pantoja   \nphotos                             [{'url': 'http://bet2face.com/uploads/images/f...   \nrank                                                                               5   \nsigStrikesAccuracy                                                              46.0   \nsignificantStrikesDefendPercent                                                 56.0   \nsignificantStrikesLandPerMinute                                                  4.4   \nsignificantStrikesMissedPerMinute                                               3.47   \nsubmissionAttemptsPer15minutes                                                   1.4   \ntakedownsAccuracy                                                               31.0   \ntakedownsDefendPercent                                                          60.0   \ntakedownsPer15min                                                               0.96   \ntimezone                                                           America/Sao_Paulo   \nweight                                                                          56.7   \nweightCategory.id                                                                  2   \nweightCategory.name                                                 Наилегчайший вес   \nwins                                                                              21   \nbirthYear                                                                     1990.0   \n\n                                                                                484   \\\narmSpan                                                                        165.1   \navgFightTime                                                                   12:08   \ncity                                                                     San Antonio   \ncountry                                                                United States   \ndateOfBirth                                                      1984-07-31 00:00:00   \ndisciplines                                                                       []   \ndraws                                                                              0   \nheight                                                                        162.56   \nid                                                                               485   \nknockdownsPerFight                                                              0.36   \nlegSwing                                                                       91.44   \nlooses                                                                             5   \nmethods.looseMethods                                                             NaN   \nmethods.looseMethods.DEC                                                         5.0   \nmethods.looseMethods.DQ                                                          NaN   \nmethods.looseMethods.KO                                                          2.0   \nmethods.looseMethods.SUB                                                         1.0   \nmethods.winMethods                                                               NaN   \nmethods.winMethods.DEC                                                          12.0   \nmethods.winMethods.DQ                                                            NaN   \nmethods.winMethods.KO                                                            7.0   \nmethods.winMethods.SUB                                                           7.0   \nname                                                                Joseph Benavidez   \nphotos                             [{'url': 'http://bet2face.com/uploads/images/f...   \nrank                                                                               2   \nsigStrikesAccuracy                                                              33.0   \nsignificantStrikesDefendPercent                                                 63.0   \nsignificantStrikesLandPerMinute                                                 3.46   \nsignificantStrikesMissedPerMinute                                               2.52   \nsubmissionAttemptsPer15minutes                                                   0.6   \ntakedownsAccuracy                                                               31.0   \ntakedownsDefendPercent                                                          65.0   \ntakedownsPer15min                                                               1.53   \ntimezone                                                             America/Chicago   \nweight                                                                          56.7   \nweightCategory.id                                                                  2   \nweightCategory.name                                                 Наилегчайший вес   \nwins                                                                              28   \nbirthYear                                                                     1984.0   \n\n                                                                                618   \\\narmSpan                                                                       167.64   \navgFightTime                                                                   12:40   \ncity                                                                     Kansas City   \ncountry                                                                United States   \ndateOfBirth                                                      1986-12-24 00:00:00   \ndisciplines                                                                       []   \ndraws                                                                              1   \nheight                                                                        170.18   \nid                                                                               619   \nknockdownsPerFight                                                              0.12   \nlegSwing                                                                       96.52   \nlooses                                                                             9   \nmethods.looseMethods                                                             NaN   \nmethods.looseMethods.DEC                                                         5.0   \nmethods.looseMethods.DQ                                                          NaN   \nmethods.looseMethods.KO                                                          1.0   \nmethods.looseMethods.SUB                                                         5.0   \nmethods.winMethods                                                               NaN   \nmethods.winMethods.DEC                                                          10.0   \nmethods.winMethods.DQ                                                            NaN   \nmethods.winMethods.KO                                                            3.0   \nmethods.winMethods.SUB                                                           8.0   \nname                                                                     Tim Elliott   \nphotos                             [{'url': 'http://bet2face.com/uploads/images/f...   \nrank                                                                              12   \nsigStrikesAccuracy                                                              46.0   \nsignificantStrikesDefendPercent                                                 62.0   \nsignificantStrikesLandPerMinute                                                 3.53   \nsignificantStrikesMissedPerMinute                                                2.3   \nsubmissionAttemptsPer15minutes                                                   1.4   \ntakedownsAccuracy                                                               63.0   \ntakedownsDefendPercent                                                          51.0   \ntakedownsPer15min                                                               4.28   \ntimezone                                                             America/Chicago   \nweight                                                                         61.24   \nweightCategory.id                                                                  2   \nweightCategory.name                                                 Наилегчайший вес   \nwins                                                                              16   \nbirthYear                                                                     1986.0   \n\n                                                                                628   \\\narmSpan                                                                       175.26   \navgFightTime                                                                   00:00   \ncity                                                                             NaN   \ncountry                                                                       Brazil   \ndateOfBirth                                                      1995-10-17 00:00:00   \ndisciplines                                                                       []   \ndraws                                                                              0   \nheight                                                                        172.72   \nid                                                                               629   \nknockdownsPerFight                                                               0.0   \nlegSwing                                                                         NaN   \nlooses                                                                             3   \nmethods.looseMethods                                                             NaN   \nmethods.looseMethods.DEC                                                         2.0   \nmethods.looseMethods.DQ                                                          NaN   \nmethods.looseMethods.KO                                                          1.0   \nmethods.looseMethods.SUB                                                         1.0   \nmethods.winMethods                                                               NaN   \nmethods.winMethods.DEC                                                          13.0   \nmethods.winMethods.DQ                                                            NaN   \nmethods.winMethods.KO                                                            3.0   \nmethods.winMethods.SUB                                                           4.0   \nname                                                                   Raulian Paiva   \nphotos                             [{'url': 'http://bet2face.com/uploads/images/f...   \nrank                                                                              11   \nsigStrikesAccuracy                                                              43.0   \nsignificantStrikesDefendPercent                                                 49.0   \nsignificantStrikesLandPerMinute                                                 4.59   \nsignificantStrikesMissedPerMinute                                               5.19   \nsubmissionAttemptsPer15minutes                                                   0.5   \ntakedownsAccuracy                                                               20.0   \ntakedownsDefendPercent                                                          77.0   \ntakedownsPer15min                                                               0.46   \ntimezone                                                           America/Sao_Paulo   \nweight                                                                          56.7   \nweightCategory.id                                                                  2   \nweightCategory.name                                                 Наилегчайший вес   \nwins                                                                              18   \nbirthYear                                                                     1995.0   \n\n                                                                                686   \\\narmSpan                                                                       175.26   \navgFightTime                                                                   15:00   \ncity                                                                             NaN   \ncountry                                                                  New Zealand   \ndateOfBirth                                                      1993-03-26 00:00:00   \ndisciplines                                                                       []   \ndraws                                                                              0   \nheight                                                                        162.56   \nid                                                                               687   \nknockdownsPerFight                                                               0.5   \nlegSwing                                                                         NaN   \nlooses                                                                             7   \nmethods.looseMethods                                                             NaN   \nmethods.looseMethods.DEC                                                         5.0   \nmethods.looseMethods.DQ                                                          NaN   \nmethods.looseMethods.KO                                                          2.0   \nmethods.looseMethods.SUB                                                         3.0   \nmethods.winMethods                                                               NaN   \nmethods.winMethods.DEC                                                          10.0   \nmethods.winMethods.DQ                                                            NaN   \nmethods.winMethods.KO                                                            9.0   \nmethods.winMethods.SUB                                                           2.0   \nname                                                                 Kai Kara-France   \nphotos                             [{'url': 'http://bet2face.com/uploads/images/f...   \nrank                                                                               8   \nsigStrikesAccuracy                                                              43.0   \nsignificantStrikesDefendPercent                                                 68.0   \nsignificantStrikesLandPerMinute                                                 5.22   \nsignificantStrikesMissedPerMinute                                               3.18   \nsubmissionAttemptsPer15minutes                                                   NaN   \ntakedownsAccuracy                                                               37.0   \ntakedownsDefendPercent                                                          88.0   \ntakedownsPer15min                                                                1.0   \ntimezone                                                            Pacific/Auckland   \nweight                                                                          56.7   \nweightCategory.id                                                                  2   \nweightCategory.name                                                 Наилегчайший вес   \nwins                                                                              20   \nbirthYear                                                                     1993.0   \n\n                                                  1924                 3414  \\\narmSpan                                         170.18                  NaN   \navgFightTime                                       NaN                  NaN   \ncity                                               NaN                  NaN   \ncountry                                         Russia                  NaN   \ndateOfBirth                        1992-10-09 00:00:00  1970-01-01 00:00:00   \ndisciplines                                         []                   []   \ndraws                                                1                    0   \nheight                                          167.64                165.1   \nid                                                1932                 3423   \nknockdownsPerFight                                 0.0                  NaN   \nlegSwing                                           NaN                  NaN   \nlooses                                               0                    3   \nmethods.looseMethods                                []                   []   \nmethods.looseMethods.DEC                           NaN                  NaN   \nmethods.looseMethods.DQ                            NaN                  NaN   \nmethods.looseMethods.KO                            NaN                  NaN   \nmethods.looseMethods.SUB                           NaN                  NaN   \nmethods.winMethods                                 NaN                  NaN   \nmethods.winMethods.DEC                             3.0                  1.0   \nmethods.winMethods.DQ                              NaN                  NaN   \nmethods.winMethods.KO                              3.0                  NaN   \nmethods.winMethods.SUB                             7.0                  NaN   \nname                                     Askar Askarov         David Dvorak   \nphotos                                              []                   []   \nrank                                                 3                   10   \nsigStrikesAccuracy                                47.0                  NaN   \nsignificantStrikesDefendPercent                   58.0                  NaN   \nsignificantStrikesLandPerMinute                    2.0                  NaN   \nsignificantStrikesMissedPerMinute                 2.27                  NaN   \nsubmissionAttemptsPer15minutes                     NaN                  NaN   \ntakedownsAccuracy                                 36.0                  NaN   \ntakedownsDefendPercent                             NaN                  NaN   \ntakedownsPer15min                                  4.0                  NaN   \ntimezone                                 Europe/Moscow                  NaN   \nweight                                            56.7                 56.7   \nweightCategory.id                                    2                   14   \nweightCategory.name                   Наилегчайший вес        Не определена   \nwins                                                10                   17   \nbirthYear                                       1992.0               1970.0   \n\n                                                  3431                 3457  \narmSpan                                          177.8                  NaN  \navgFightTime                                       NaN                  NaN  \ncity                                               NaN                  NaN  \ncountry                                            NaN                  NaN  \ndateOfBirth                        1992-08-16 00:00:00  1993-10-27 00:00:00  \ndisciplines                                         []                   []  \ndraws                                                0                    0  \nheight                                          175.26                165.1  \nid                                                3440                 3466  \nknockdownsPerFight                                 NaN                  NaN  \nlegSwing                                           NaN                  NaN  \nlooses                                               4                    1  \nmethods.looseMethods                               NaN                   []  \nmethods.looseMethods.DEC                           NaN                  NaN  \nmethods.looseMethods.DQ                            NaN                  NaN  \nmethods.looseMethods.KO                            1.0                  NaN  \nmethods.looseMethods.SUB                           NaN                  NaN  \nmethods.winMethods                                 NaN                  NaN  \nmethods.winMethods.DEC                             NaN                  1.0  \nmethods.winMethods.DQ                              NaN                  NaN  \nmethods.winMethods.KO                              NaN                  NaN  \nmethods.winMethods.SUB                             2.0                  1.0  \nname                                    Brandon Royval          Amir Albazi  \nphotos                                              []                   []  \nrank                                                 6                   13  \nsigStrikesAccuracy                                 NaN                  NaN  \nsignificantStrikesDefendPercent                    NaN                  NaN  \nsignificantStrikesLandPerMinute                    NaN                  NaN  \nsignificantStrikesMissedPerMinute                  NaN                  NaN  \nsubmissionAttemptsPer15minutes                     NaN                  NaN  \ntakedownsAccuracy                                  NaN                  NaN  \ntakedownsDefendPercent                             NaN                  NaN  \ntakedownsPer15min                                  NaN                  NaN  \ntimezone                                           NaN                  NaN  \nweight                                            56.7                 56.7  \nweightCategory.id                                   14                   14  \nweightCategory.name                      Не определена        Не определена  \nwins                                                10                   12  \nbirthYear                                       1992.0               1993.0  ",
      "text/html": "<div>\n<style scoped>\n    .dataframe tbody tr th:only-of-type {\n        vertical-align: middle;\n    }\n\n    .dataframe tbody tr th {\n        vertical-align: top;\n    }\n\n    .dataframe thead th {\n        text-align: right;\n    }\n</style>\n<table border=\"1\" class=\"dataframe\">\n  <thead>\n    <tr style=\"text-align: right;\">\n      <th></th>\n      <th>241</th>\n      <th>281</th>\n      <th>405</th>\n      <th>441</th>\n      <th>475</th>\n      <th>484</th>\n      <th>618</th>\n      <th>628</th>\n      <th>686</th>\n      <th>1924</th>\n      <th>3414</th>\n      <th>3431</th>\n      <th>3457</th>\n    </tr>\n  </thead>\n  <tbody>\n    <tr>\n      <th>armSpan</th>\n      <td>177.8</td>\n      <td>165.1</td>\n      <td>172.72</td>\n      <td>177.8</td>\n      <td>170.18</td>\n      <td>165.1</td>\n      <td>167.64</td>\n      <td>175.26</td>\n      <td>175.26</td>\n      <td>170.18</td>\n      <td>NaN</td>\n      <td>177.8</td>\n      <td>NaN</td>\n    </tr>\n    <tr>\n      <th>avgFightTime</th>\n      <td>13:18</td>\n      <td>09:00</td>\n      <td>12:07</td>\n      <td>07:09</td>\n      <td>11:58</td>\n      <td>12:08</td>\n      <td>12:40</td>\n      <td>00:00</td>\n      <td>15:00</td>\n      <td>NaN</td>\n      <td>NaN</td>\n      <td>NaN</td>\n      <td>NaN</td>\n    </tr>\n    <tr>\n      <th>city</th>\n      <td>Tijuana</td>\n      <td>Hanford</td>\n      <td>NaN</td>\n      <td>NaN</td>\n      <td>Rio de Janeiro</td>\n      <td>San Antonio</td>\n      <td>Kansas City</td>\n      <td>NaN</td>\n      <td>NaN</td>\n      <td>NaN</td>\n      <td>NaN</td>\n      <td>NaN</td>\n      <td>NaN</td>\n    </tr>\n    <tr>\n      <th>country</th>\n      <td>Mexico</td>\n      <td>United States</td>\n      <td>Brazil</td>\n      <td>United States</td>\n      <td>Brazil</td>\n      <td>United States</td>\n      <td>United States</td>\n      <td>Brazil</td>\n      <td>New Zealand</td>\n      <td>Russia</td>\n      <td>NaN</td>\n      <td>NaN</td>\n      <td>NaN</td>\n    </tr>\n    <tr>\n      <th>dateOfBirth</th>\n      <td>1993-12-07 00:00:00</td>\n      <td>1992-03-21 00:00:00</td>\n      <td>1987-12-18 00:00:00</td>\n      <td>1990-01-15 00:00:00</td>\n      <td>1990-04-16 00:00:00</td>\n      <td>1984-07-31 00:00:00</td>\n      <td>1986-12-24 00:00:00</td>\n      <td>1995-10-17 00:00:00</td>\n      <td>1993-03-26 00:00:00</td>\n      <td>1992-10-09 00:00:00</td>\n      <td>1970-01-01 00:00:00</td>\n      <td>1992-08-16 00:00:00</td>\n      <td>1993-10-27 00:00:00</td>\n    </tr>\n    <tr>\n      <th>disciplines</th>\n      <td>[]</td>\n      <td>[]</td>\n      <td>[]</td>\n      <td>[]</td>\n      <td>[]</td>\n      <td>[]</td>\n      <td>[]</td>\n      <td>[]</td>\n      <td>[]</td>\n      <td>[]</td>\n      <td>[]</td>\n      <td>[]</td>\n      <td>[]</td>\n    </tr>\n    <tr>\n      <th>draws</th>\n      <td>1</td>\n      <td>0</td>\n      <td>0</td>\n      <td>0</td>\n      <td>0</td>\n      <td>0</td>\n      <td>1</td>\n      <td>0</td>\n      <td>0</td>\n      <td>1</td>\n      <td>0</td>\n      <td>0</td>\n      <td>0</td>\n    </tr>\n    <tr>\n      <th>height</th>\n      <td>170.18</td>\n      <td>167.64</td>\n      <td>165.1</td>\n      <td>172.72</td>\n      <td>165.1</td>\n      <td>162.56</td>\n      <td>170.18</td>\n      <td>172.72</td>\n      <td>162.56</td>\n      <td>167.64</td>\n      <td>165.1</td>\n      <td>175.26</td>\n      <td>165.1</td>\n    </tr>\n    <tr>\n      <th>id</th>\n      <td>242</td>\n      <td>282</td>\n      <td>406</td>\n      <td>442</td>\n      <td>476</td>\n      <td>485</td>\n      <td>619</td>\n      <td>629</td>\n      <td>687</td>\n      <td>1932</td>\n      <td>3423</td>\n      <td>3440</td>\n      <td>3466</td>\n    </tr>\n    <tr>\n      <th>knockdownsPerFight</th>\n      <td>0.23</td>\n      <td>0.33</td>\n      <td>1.03</td>\n      <td>0.0</td>\n      <td>0.25</td>\n      <td>0.36</td>\n      <td>0.12</td>\n      <td>0.0</td>\n      <td>0.5</td>\n      <td>0.0</td>\n      <td>NaN</td>\n      <td>NaN</td>\n      <td>NaN</td>\n    </tr>\n    <tr>\n      <th>legSwing</th>\n      <td>96.52</td>\n      <td>96.52</td>\n      <td>96.52</td>\n      <td>96.52</td>\n      <td>91.44</td>\n      <td>91.44</td>\n      <td>96.52</td>\n      <td>NaN</td>\n      <td>NaN</td>\n      <td>NaN</td>\n      <td>NaN</td>\n      <td>NaN</td>\n      <td>NaN</td>\n    </tr>\n    <tr>\n      <th>looses</th>\n      <td>5</td>\n      <td>5</td>\n      <td>1</td>\n      <td>4</td>\n      <td>4</td>\n      <td>5</td>\n      <td>9</td>\n      <td>3</td>\n      <td>7</td>\n      <td>0</td>\n      <td>3</td>\n      <td>4</td>\n      <td>1</td>\n    </tr>\n    <tr>\n      <th>methods.looseMethods</th>\n      <td>NaN</td>\n      <td>NaN</td>\n      <td>NaN</td>\n      <td>NaN</td>\n      <td>NaN</td>\n      <td>NaN</td>\n      <td>NaN</td>\n      <td>NaN</td>\n      <td>NaN</td>\n      <td>[]</td>\n      <td>[]</td>\n      <td>NaN</td>\n      <td>[]</td>\n    </tr>\n    <tr>\n      <th>methods.looseMethods.DEC</th>\n      <td>5.0</td>\n      <td>NaN</td>\n      <td>1.0</td>\n      <td>1.0</td>\n      <td>4.0</td>\n      <td>5.0</td>\n      <td>5.0</td>\n      <td>2.0</td>\n      <td>5.0</td>\n      <td>NaN</td>\n      <td>NaN</td>\n      <td>NaN</td>\n      <td>NaN</td>\n    </tr>\n    <tr>\n      <th>methods.looseMethods.DQ</th>\n      <td>NaN</td>\n      <td>NaN</td>\n      <td>NaN</td>\n      <td>NaN</td>\n      <td>NaN</td>\n      <td>NaN</td>\n      <td>NaN</td>\n      <td>NaN</td>\n      <td>NaN</td>\n      <td>NaN</td>\n      <td>NaN</td>\n      <td>NaN</td>\n      <td>NaN</td>\n    </tr>\n    <tr>\n      <th>methods.looseMethods.KO</th>\n      <td>NaN</td>\n      <td>1.0</td>\n      <td>NaN</td>\n      <td>4.0</td>\n      <td>NaN</td>\n      <td>2.0</td>\n      <td>1.0</td>\n      <td>1.0</td>\n      <td>2.0</td>\n      <td>NaN</td>\n      <td>NaN</td>\n      <td>1.0</td>\n      <td>NaN</td>\n    </tr>\n    <tr>\n      <th>methods.looseMethods.SUB</th>\n      <td>2.0</td>\n      <td>2.0</td>\n      <td>NaN</td>\n      <td>2.0</td>\n      <td>NaN</td>\n      <td>1.0</td>\n      <td>5.0</td>\n      <td>1.0</td>\n      <td>3.0</td>\n      <td>NaN</td>\n      <td>NaN</td>\n      <td>NaN</td>\n      <td>NaN</td>\n    </tr>\n    <tr>\n      <th>methods.winMethods</th>\n      <td>NaN</td>\n      <td>NaN</td>\n      <td>NaN</td>\n      <td>NaN</td>\n      <td>NaN</td>\n      <td>NaN</td>\n      <td>NaN</td>\n      <td>NaN</td>\n      <td>NaN</td>\n      <td>NaN</td>\n      <td>NaN</td>\n      <td>NaN</td>\n      <td>NaN</td>\n    </tr>\n    <tr>\n      <th>methods.winMethods.DEC</th>\n      <td>5.0</td>\n      <td>3.0</td>\n      <td>3.0</td>\n      <td>4.0</td>\n      <td>4.0</td>\n      <td>12.0</td>\n      <td>10.0</td>\n      <td>13.0</td>\n      <td>10.0</td>\n      <td>3.0</td>\n      <td>1.0</td>\n      <td>NaN</td>\n      <td>1.0</td>\n    </tr>\n    <tr>\n      <th>methods.winMethods.DQ</th>\n      <td>NaN</td>\n      <td>NaN</td>\n      <td>NaN</td>\n      <td>NaN</td>\n      <td>NaN</td>\n      <td>NaN</td>\n      <td>NaN</td>\n      <td>NaN</td>\n      <td>NaN</td>\n      <td>NaN</td>\n      <td>NaN</td>\n      <td>NaN</td>\n      <td>NaN</td>\n    </tr>\n    <tr>\n      <th>methods.winMethods.KO</th>\n      <td>3.0</td>\n      <td>2.0</td>\n      <td>9.0</td>\n      <td>3.0</td>\n      <td>2.0</td>\n      <td>7.0</td>\n      <td>3.0</td>\n      <td>3.0</td>\n      <td>9.0</td>\n      <td>3.0</td>\n      <td>NaN</td>\n      <td>NaN</td>\n      <td>NaN</td>\n    </tr>\n    <tr>\n      <th>methods.winMethods.SUB</th>\n      <td>10.0</td>\n      <td>3.0</td>\n      <td>8.0</td>\n      <td>16.0</td>\n      <td>4.0</td>\n      <td>7.0</td>\n      <td>8.0</td>\n      <td>4.0</td>\n      <td>2.0</td>\n      <td>7.0</td>\n      <td>NaN</td>\n      <td>2.0</td>\n      <td>1.0</td>\n    </tr>\n    <tr>\n      <th>name</th>\n      <td>Brandon Moreno</td>\n      <td>Alex Perez</td>\n      <td>Deiveson Figueiredo</td>\n      <td>Matt Schnell</td>\n      <td>Alexandre Pantoja</td>\n      <td>Joseph Benavidez</td>\n      <td>Tim Elliott</td>\n      <td>Raulian Paiva</td>\n      <td>Kai Kara-France</td>\n      <td>Askar Askarov</td>\n      <td>David Dvorak</td>\n      <td>Brandon Royval</td>\n      <td>Amir Albazi</td>\n    </tr>\n    <tr>\n      <th>photos</th>\n      <td>[{'url': 'http://bet2face.com/uploads/images/f...</td>\n      <td>[{'url': 'http://bet2face.com/uploads/images/f...</td>\n      <td>[{'url': 'http://bet2face.com/uploads/images/f...</td>\n      <td>[{'url': 'http://bet2face.com/uploads/images/f...</td>\n      <td>[{'url': 'http://bet2face.com/uploads/images/f...</td>\n      <td>[{'url': 'http://bet2face.com/uploads/images/f...</td>\n      <td>[{'url': 'http://bet2face.com/uploads/images/f...</td>\n      <td>[{'url': 'http://bet2face.com/uploads/images/f...</td>\n      <td>[{'url': 'http://bet2face.com/uploads/images/f...</td>\n      <td>[]</td>\n      <td>[]</td>\n      <td>[]</td>\n      <td>[]</td>\n    </tr>\n    <tr>\n      <th>rank</th>\n      <td>1</td>\n      <td>4</td>\n      <td>0</td>\n      <td>7</td>\n      <td>5</td>\n      <td>2</td>\n      <td>12</td>\n      <td>11</td>\n      <td>8</td>\n      <td>3</td>\n      <td>10</td>\n      <td>6</td>\n      <td>13</td>\n    </tr>\n    <tr>\n      <th>sigStrikesAccuracy</th>\n      <td>34.0</td>\n      <td>48.0</td>\n      <td>52.0</td>\n      <td>34.0</td>\n      <td>46.0</td>\n      <td>33.0</td>\n      <td>46.0</td>\n      <td>43.0</td>\n      <td>43.0</td>\n      <td>47.0</td>\n      <td>NaN</td>\n      <td>NaN</td>\n      <td>NaN</td>\n    </tr>\n    <tr>\n      <th>significantStrikesDefendPercent</th>\n      <td>63.0</td>\n      <td>61.0</td>\n      <td>53.0</td>\n      <td>62.0</td>\n      <td>56.0</td>\n      <td>63.0</td>\n      <td>62.0</td>\n      <td>49.0</td>\n      <td>68.0</td>\n      <td>58.0</td>\n      <td>NaN</td>\n      <td>NaN</td>\n      <td>NaN</td>\n    </tr>\n    <tr>\n      <th>significantStrikesLandPerMinute</th>\n      <td>2.58</td>\n      <td>4.68</td>\n      <td>2.44</td>\n      <td>3.64</td>\n      <td>4.4</td>\n      <td>3.46</td>\n      <td>3.53</td>\n      <td>4.59</td>\n      <td>5.22</td>\n      <td>2.0</td>\n      <td>NaN</td>\n      <td>NaN</td>\n      <td>NaN</td>\n    </tr>\n    <tr>\n      <th>significantStrikesMissedPerMinute</th>\n      <td>2.83</td>\n      <td>3.11</td>\n      <td>2.4</td>\n      <td>3.69</td>\n      <td>3.47</td>\n      <td>2.52</td>\n      <td>2.3</td>\n      <td>5.19</td>\n      <td>3.18</td>\n      <td>2.27</td>\n      <td>NaN</td>\n      <td>NaN</td>\n      <td>NaN</td>\n    </tr>\n    <tr>\n      <th>submissionAttemptsPer15minutes</th>\n      <td>0.7</td>\n      <td>1.2</td>\n      <td>2.4</td>\n      <td>1.8</td>\n      <td>1.4</td>\n      <td>0.6</td>\n      <td>1.4</td>\n      <td>0.5</td>\n      <td>NaN</td>\n      <td>NaN</td>\n      <td>NaN</td>\n      <td>NaN</td>\n      <td>NaN</td>\n    </tr>\n    <tr>\n      <th>takedownsAccuracy</th>\n      <td>43.0</td>\n      <td>47.0</td>\n      <td>47.0</td>\n      <td>40.0</td>\n      <td>31.0</td>\n      <td>31.0</td>\n      <td>63.0</td>\n      <td>20.0</td>\n      <td>37.0</td>\n      <td>36.0</td>\n      <td>NaN</td>\n      <td>NaN</td>\n      <td>NaN</td>\n    </tr>\n    <tr>\n      <th>takedownsDefendPercent</th>\n      <td>62.0</td>\n      <td>87.0</td>\n      <td>59.0</td>\n      <td>58.0</td>\n      <td>60.0</td>\n      <td>65.0</td>\n      <td>51.0</td>\n      <td>77.0</td>\n      <td>88.0</td>\n      <td>NaN</td>\n      <td>NaN</td>\n      <td>NaN</td>\n      <td>NaN</td>\n    </tr>\n    <tr>\n      <th>takedownsPer15min</th>\n      <td>2.39</td>\n      <td>3.13</td>\n      <td>1.78</td>\n      <td>0.7</td>\n      <td>0.96</td>\n      <td>1.53</td>\n      <td>4.28</td>\n      <td>0.46</td>\n      <td>1.0</td>\n      <td>4.0</td>\n      <td>NaN</td>\n      <td>NaN</td>\n      <td>NaN</td>\n    </tr>\n    <tr>\n      <th>timezone</th>\n      <td>America/Tijuana</td>\n      <td>America/New_York</td>\n      <td>America/Sao_Paulo</td>\n      <td>America/New_York</td>\n      <td>America/Sao_Paulo</td>\n      <td>America/Chicago</td>\n      <td>America/Chicago</td>\n      <td>America/Sao_Paulo</td>\n      <td>Pacific/Auckland</td>\n      <td>Europe/Moscow</td>\n      <td>NaN</td>\n      <td>NaN</td>\n      <td>NaN</td>\n    </tr>\n    <tr>\n      <th>weight</th>\n      <td>56.7</td>\n      <td>61.24</td>\n      <td>56.7</td>\n      <td>56.7</td>\n      <td>56.7</td>\n      <td>56.7</td>\n      <td>61.24</td>\n      <td>56.7</td>\n      <td>56.7</td>\n      <td>56.7</td>\n      <td>56.7</td>\n      <td>56.7</td>\n      <td>56.7</td>\n    </tr>\n    <tr>\n      <th>weightCategory.id</th>\n      <td>2</td>\n      <td>2</td>\n      <td>2</td>\n      <td>2</td>\n      <td>2</td>\n      <td>2</td>\n      <td>2</td>\n      <td>2</td>\n      <td>2</td>\n      <td>2</td>\n      <td>14</td>\n      <td>14</td>\n      <td>14</td>\n    </tr>\n    <tr>\n      <th>weightCategory.name</th>\n      <td>Наилегчайший вес</td>\n      <td>Наилегчайший вес</td>\n      <td>Наилегчайший вес</td>\n      <td>Наилегчайший вес</td>\n      <td>Наилегчайший вес</td>\n      <td>Наилегчайший вес</td>\n      <td>Наилегчайший вес</td>\n      <td>Наилегчайший вес</td>\n      <td>Наилегчайший вес</td>\n      <td>Наилегчайший вес</td>\n      <td>Не определена</td>\n      <td>Не определена</td>\n      <td>Не определена</td>\n    </tr>\n    <tr>\n      <th>wins</th>\n      <td>15</td>\n      <td>22</td>\n      <td>17</td>\n      <td>14</td>\n      <td>21</td>\n      <td>28</td>\n      <td>16</td>\n      <td>18</td>\n      <td>20</td>\n      <td>10</td>\n      <td>17</td>\n      <td>10</td>\n      <td>12</td>\n    </tr>\n    <tr>\n      <th>birthYear</th>\n      <td>1993.0</td>\n      <td>1992.0</td>\n      <td>1987.0</td>\n      <td>1990.0</td>\n      <td>1990.0</td>\n      <td>1984.0</td>\n      <td>1986.0</td>\n      <td>1995.0</td>\n      <td>1993.0</td>\n      <td>1992.0</td>\n      <td>1970.0</td>\n      <td>1992.0</td>\n      <td>1993.0</td>\n    </tr>\n  </tbody>\n</table>\n</div>"
     },
     "execution_count": 5,
     "metadata": {},
     "output_type": "execute_result"
    }
   ],
   "source": [
    "# В основном бойцы 16 ранга, но есть и другие...\n",
    "fighters_df[fighters_df['rank']!=16].T"
   ]
  },
  {
   "cell_type": "code",
   "execution_count": 6,
   "metadata": {
    "pycharm": {
     "name": "#%%\n"
    }
   },
   "outputs": [],
   "source": [
    "df = pd.read_csv('data/0.events_raw.csv', index_col=0)\n",
    "df = df.set_index('id').sort_index()\n",
    "\n",
    "df['eventDate.date'] = pd.to_datetime(df['eventDate.date'])\n",
    "df = df.sort_values('eventDate.date').reset_index()\n",
    "df['fighters'] = df['fighters'].apply(lambda x: ast.literal_eval(x))"
   ]
  },
  {
   "cell_type": "code",
   "execution_count": 7,
   "metadata": {
    "pycharm": {
     "name": "#%%\n"
    }
   },
   "outputs": [
    {
     "data": {
      "text/plain": "(7100, 20)"
     },
     "execution_count": 7,
     "metadata": {},
     "output_type": "execute_result"
    }
   ],
   "source": [
    "df.shape"
   ]
  },
  {
   "cell_type": "code",
   "execution_count": 8,
   "metadata": {
    "pycharm": {
     "name": "#%%\n"
    }
   },
   "outputs": [],
   "source": [
    "df.columns = [i.replace('.','_') for i in df.columns]"
   ]
  },
  {
   "cell_type": "code",
   "execution_count": 9,
   "metadata": {
    "pycharm": {
     "name": "#%%\n"
    }
   },
   "outputs": [
    {
     "name": "stdout",
     "output_type": "stream",
     "text": [
      "<class 'pandas.core.frame.DataFrame'>\n",
      "RangeIndex: 7100 entries, 0 to 7099\n",
      "Data columns (total 20 columns):\n",
      " #   Column                   Non-Null Count  Dtype         \n",
      "---  ------                   --------------  -----         \n",
      " 0   id                       7100 non-null   int64         \n",
      " 1   avgOdds                  7100 non-null   object        \n",
      " 2   city                     7061 non-null   object        \n",
      " 3   completed                7100 non-null   bool          \n",
      " 4   country                  7064 non-null   object        \n",
      " 5   duration                 6942 non-null   float64       \n",
      " 6   eventDate_date           7100 non-null   datetime64[ns]\n",
      " 7   eventDate_timezone       7100 non-null   object        \n",
      " 8   eventDate_timezone_type  7100 non-null   int64         \n",
      " 9   fighterId_1              7100 non-null   int64         \n",
      " 10  fighterId_2              7100 non-null   int64         \n",
      " 11  fighters                 7100 non-null   object        \n",
      " 12  link                     7100 non-null   object        \n",
      " 13  name                     7100 non-null   object        \n",
      " 14  rounds                   6942 non-null   float64       \n",
      " 15  timezone                 7020 non-null   object        \n",
      " 16  weightCategory_id        7100 non-null   int64         \n",
      " 17  weightCategory_name      7100 non-null   object        \n",
      " 18  winMethods               7100 non-null   object        \n",
      " 19  winnerId                 6955 non-null   float64       \n",
      "dtypes: bool(1), datetime64[ns](1), float64(3), int64(5), object(10)\n",
      "memory usage: 1.0+ MB\n"
     ]
    }
   ],
   "source": [
    "df.info()"
   ]
  },
  {
   "cell_type": "code",
   "execution_count": 10,
   "metadata": {
    "pycharm": {
     "name": "#%%\n"
    }
   },
   "outputs": [
    {
     "data": {
      "text/plain": "(7100, 22)"
     },
     "execution_count": 10,
     "metadata": {},
     "output_type": "execute_result"
    }
   ],
   "source": [
    "def parse_odds(df):  # Parse odds from avgOdds dict\n",
    "    # Добавить кэффы в df\n",
    "    for i in df.index[:]:\n",
    "        avgodds = df.loc[i, 'avgOdds']\n",
    "\n",
    "        if avgodds == '[]':\n",
    "            continue\n",
    "\n",
    "        # Преобразую данные о коэффах из строки\n",
    "        ids1, odd1 = int(avgodds.split()[1].split(',')[0]), float(avgodds.split()[3].split('}')[0])\n",
    "        ids2, odd2 = int(avgodds.split()[5].split(',')[0]), float(avgodds.split()[7].split('}')[0])\n",
    "\n",
    "        # Проверить совпадает ли fighterId_1 с ids1 (который в avgOdds)\n",
    "        if df.loc[i, 'fighterId_1'] == ids1:\n",
    "            df.at[i, 'odd1'] = odd1\n",
    "            df.at[i, 'odd2'] = odd2\n",
    "\n",
    "        if df.loc[i, 'fighterId_1'] == ids2:\n",
    "            df.at[i, 'odd1'] = odd2\n",
    "            df.at[i, 'odd2'] = odd1\n",
    "\n",
    "    return df.drop('avgOdds', axis=1)\n",
    "\n",
    "\n",
    "df = parse_odds(df)\n",
    "\"\"\"Удаление боёв без данных о шансах (\"odds\") считаю не нужным.\"\"\"\n",
    "#df = df[~df['odd1'].isna()].reset_index()\n",
    "\n",
    "# When fighterID_1 wins, then Winner == 1\n",
    "df['winner'] = df['winnerId'] == df['fighterId_1']\n",
    "\n",
    "df.shape"
   ]
  },
  {
   "cell_type": "markdown",
   "source": [
    "**Significant Strike Accuracy** - результативность силовых ударов (не включают простые удары в клинче)\n",
    "sigStrikesAccuracy = accentedHitsSuccessful / accentedHitsTotal\n",
    "\n",
    "**StrikesDefendPercent**- результативность защиты: количество силовых ударов, не достигших цели\n",
    "significantStrikesDefendPercent = 1 - accentedHitsSuccessful_opp / accentedHitsTotal_opp\n",
    "\n",
    "**Strikes Landed per Minute** - количество ударов в минуту за карьеру.\n",
    "significantStrikesLandPerMinute = sigStrikesAccuracy / duration * 60\n",
    "Чтобы учесть предыдущее не известное количество боев можно обновлять этот параметр по с коэффициентом взвешенности 0,1\n",
    "0,9 * предыдущее значение коэффициента + 0,1 * коэффициент за этот бой.\n",
    "\n",
    "**Strikes Missed Per Minute**\n",
    "significantStrikesMissedPerMinute = accentedHitsOppSuccessful / duration * 60\n",
    "тот же самый подход\n",
    "\n",
    "submissionAttemptsPer15minutes = ?\n",
    "\n",
    "**takedowns Accuracy**\n",
    "takedownsAccuracy = takedownSuccessful / takedownTotal\n",
    "\n",
    "**takedowns Defend Percent**\n",
    "takedownsDefendPercent = 1 - takedownSuccessfu_opp / takedownTotal_opp\n",
    "\n",
    "**takedownsPer15min**\n",
    "takedownsPer15min = takedownSuccessful / duration * 15 * 60"
   ],
   "metadata": {
    "collapsed": false,
    "pycharm": {
     "name": "#%% md\n"
    }
   }
  },
  {
   "cell_type": "code",
   "execution_count": 11,
   "metadata": {
    "pycharm": {
     "name": "#%%\n"
    }
   },
   "outputs": [
    {
     "data": {
      "text/plain": "(Timestamp('1993-11-12 00:00:00'), Timestamp('2021-03-06 00:00:00'))"
     },
     "execution_count": 11,
     "metadata": {},
     "output_type": "execute_result"
    }
   ],
   "source": [
    "df['eventDate_date'].min(), df['eventDate_date'].max()"
   ]
  },
  {
   "cell_type": "markdown",
   "metadata": {
    "pycharm": {
     "name": "#%% md\n"
    }
   },
   "source": [
    "## Задача 1: Парсинг данных\n",
    "* по примеру из baseline.\n",
    "* проверка данных на пропуски, заполнение\n",
    "* добавление данных из таблицы fighters : рост, вес, ранг, год рождения, количество побед"
   ]
  },
  {
   "cell_type": "code",
   "execution_count": 12,
   "metadata": {
    "pycharm": {
     "name": "#%%\n"
    }
   },
   "outputs": [],
   "source": [
    "def parse_data_from_fight(fightStats, duration):\n",
    "    if len(fightStats) == 0:\n",
    "        return [np.nan]*26\n",
    "\n",
    "    hitsTotal = fightStats.get('hitsTotal')\n",
    "    hitsSuccessful = fightStats.get('hitsSuccessful')\n",
    "    accentedHitsTotal = fightStats.get('accentedHitsTotal')\n",
    "    accentedHitsSuccessful = fightStats.get('accentedHitsSuccessful')\n",
    "    takedownTotal = fightStats.get('takedownTotal')\n",
    "    takedownSuccessful = fightStats.get('takedownSuccessful')\n",
    "    accentedHitsPositionDistanceTotal = fightStats.get('accentedHitsPositionDistanceTotal')\n",
    "    accentedHitsPositionDistanceSuccessful = fightStats.get('accentedHitsPositionDistanceSuccessful')\n",
    "    accentedHitsPositionClinchTotal = fightStats.get('accentedHitsPositionClinchTotal')\n",
    "    accentedHitsPositionClinchSuccessful = fightStats.get('accentedHitsPositionClinchSuccessful')\n",
    "    accentedHitsPositionParterTotal = fightStats.get('accentedHitsPositionParterTotal')\n",
    "    accentedHitsPositionParterSuccessful = fightStats.get('accentedHitsPositionParterSuccessful')\n",
    "\n",
    "    try: hitsSuccessful_percent = hitsSuccessful/hitsTotal\n",
    "    except ZeroDivisionError: hitsSuccessful_percent = np.nan\n",
    "\n",
    "    try: accentedHitsSuccessful_percent = accentedHitsSuccessful/hitsTotal\n",
    "    except ZeroDivisionError: accentedHitsSuccessful_percent = np.nan\n",
    "\n",
    "    try: accentedHits_percent = accentedHitsTotal/hitsTotal\n",
    "    except ZeroDivisionError: accentedHits_percent = np.nan\n",
    "\n",
    "    try: takedownSuccessful_percent = takedownSuccessful/takedownTotal\n",
    "    except ZeroDivisionError: takedownSuccessful_percent = np.nan\n",
    "\n",
    "    try: accentedHitsPositionDistanceSuccessful_percent = accentedHitsPositionDistanceTotal/accentedHitsPositionDistanceSuccessful\n",
    "    except ZeroDivisionError: accentedHitsPositionDistanceSuccessful_percent = np.nan\n",
    "\n",
    "    try: accentedHitsPositionClinchSuccessful_percent = accentedHitsPositionClinchTotal/accentedHitsPositionClinchSuccessful\n",
    "    except ZeroDivisionError: accentedHitsPositionClinchSuccessful_percent = np.nan\n",
    "\n",
    "    try: accentedHitsPositionParterSuccessful_percent = accentedHitsPositionParterTotal/accentedHitsPositionParterSuccessful\n",
    "    except ZeroDivisionError: accentedHitsPositionParterSuccessful_percent = np.nan\n",
    "\n",
    "    try: takedowns_to_hits = takedownSuccessful / hitsSuccessful\n",
    "    except ZeroDivisionError: takedowns_to_hits = np.nan\n",
    "\n",
    "    try: HitsPositionDistance_to_hits = accentedHitsPositionDistanceSuccessful / hitsSuccessful\n",
    "    except ZeroDivisionError: HitsPositionDistance_to_hits = np.nan\n",
    "\n",
    "    try: HitsPositionClinch_to_hits = accentedHitsPositionClinchSuccessful / hitsSuccessful\n",
    "    except ZeroDivisionError: HitsPositionClinch_to_hits = np.nan\n",
    "\n",
    "    try: HitsPositionParter_to_hits = accentedHitsPositionParterSuccessful / hitsSuccessful\n",
    "    except ZeroDivisionError: HitsPositionParter_to_hits = np.nan\n",
    "\n",
    "    hitsPM = (60 * hitsTotal) / duration\n",
    "    accentedHitsPM = (60 * accentedHitsTotal) / duration\n",
    "    takedownsPM = (60 * takedownTotal) / duration\n",
    "    accentedHitsDistancePM = (60 * accentedHitsPositionDistanceTotal) / duration\n",
    "    accentedHitsClinchPM = (60 * accentedHitsPositionClinchTotal) / duration\n",
    "    accentedHitsParterPM = (60 * accentedHitsPositionParterTotal) / duration\n",
    "\n",
    "    hitsSuccessfulPM = (60 * hitsSuccessful) / duration\n",
    "\n",
    "    #accentedHitsSuccessfulPM = (60 * accentedHitsSuccessful) / duration  # exchange to 'significantStrikesLandPerMinute'\n",
    "    takedownsSuccessfulPM = (60 * takedownSuccessful) / duration\n",
    "    accentedHitsDistanceSuccessfulPM = (60 * accentedHitsPositionDistanceSuccessful) / duration\n",
    "    accentedHitsClinchSuccessfulPM = (60 * accentedHitsPositionClinchSuccessful) / duration\n",
    "    accentedHitsParterSuccessfulPM = (60 * accentedHitsPositionParterSuccessful) / duration\n",
    "\n",
    "    \"\"\"\n",
    "    sigStrikesAccuracy = accentedHitsSuccessful / accentedHitsTotal\n",
    "    significantStrikesDefendPercent = 1 - accentedHitsSuccessful_opp / accentedHitsTotal_opp\n",
    "        ### this is opposite 'sigStrikesAccuracy' feature of opponent\n",
    "    significantStrikesLandPerMinute = accentedHitsSuccessful / duration * 60\n",
    "    significantStrikesMissedPerMinute = accentedHitsOppSuccessful / duration * 60\n",
    "    takedownsAccuracy = takedownSuccessful / takedownTotal\n",
    "    takedownsDefendPercent = 1 - takedownSuccessful_opp / takedownTotal_opp\n",
    "        ### this is opposite 'takedownsAccuracy' feature of opponent\n",
    "    takedownsPer15min = takedownSuccessful / duration * 15 * 60\n",
    "    \"\"\"\n",
    "    try: sigStrikesAccuracy = accentedHitsSuccessful / accentedHitsTotal\n",
    "    except ZeroDivisionError: sigStrikesAccuracy = np.nan\n",
    "\n",
    "    significantStrikesLandPerMinute = (60 * accentedHitsSuccessful) / duration\n",
    "\n",
    "    try: takedownsAccuracy = takedownSuccessful / takedownTotal\n",
    "    except ZeroDivisionError: takedownsAccuracy = np.nan\n",
    "\n",
    "    takedownsPer15min = takedownSuccessful / duration * 15 * 60\n",
    "\n",
    "    return  hitsPM, accentedHitsPM, takedownsPM, accentedHitsDistancePM, accentedHitsClinchPM, accentedHitsParterPM, hitsSuccessfulPM, takedownsSuccessfulPM, accentedHitsDistanceSuccessfulPM, accentedHitsClinchSuccessfulPM, accentedHitsParterSuccessfulPM, hitsSuccessful_percent, accentedHitsSuccessful_percent, accentedHits_percent, takedownSuccessful_percent, accentedHitsPositionDistanceSuccessful_percent,accentedHitsPositionClinchSuccessful_percent, accentedHitsPositionParterSuccessful_percent,takedowns_to_hits, HitsPositionDistance_to_hits, HitsPositionClinch_to_hits, HitsPositionParter_to_hits, sigStrikesAccuracy, significantStrikesLandPerMinute, takedownsAccuracy, takedownsPer15min\n"
   ]
  },
  {
   "cell_type": "code",
   "execution_count": 13,
   "metadata": {
    "pycharm": {
     "name": "#%%\n"
    }
   },
   "outputs": [],
   "source": [
    "fightStats_cols = ['hitsPM', 'accentedHitsPM', 'takedownsPM',\n",
    "                   'accentedHitsDistancePM', 'accentedHitsClinchPM', 'accentedHitsParterPM',\n",
    "\n",
    "                   'hitsSuccessfulPM',  'takedownsSuccessfulPM', #'accentedHitsSuccessfulPM',\n",
    "                   'accentedHitsDistanceSuccessfulPM', 'accentedHitsClinchSuccessfulPM', 'accentedHitsParterSuccessfulPM',\n",
    "\n",
    "                   'hitsSuccessful_percent', 'accentedHitsSuccessful_percent', 'accentedHits_percent',\n",
    "                   'takedownSuccessful_percent', 'accentedHitsPositionDistanceSuccessful_prcent',\n",
    "                   'accentedHitsPositionClinchSuccessful_percent',  'accentedHitsPositionParterSuccessful_percent',\n",
    "                   'takedowns_to_hits', 'HitsPositionDistance_to_hits', 'HitsPositionClinch_to_hits',\n",
    "                   'HitsPositionParter_to_hits',\n",
    "                   'sigStrikesAccuracy', 'significantStrikesLandPerMinute', 'takedownsAccuracy', 'takedownsPer15min'\n",
    "                   ]\n",
    "\n",
    "fighter1_cols = [i+'_fighter1' for i in fightStats_cols]\n",
    "fighter2_cols = [i+'_fighter2' for i in fightStats_cols]\n"
   ]
  },
  {
   "cell_type": "code",
   "execution_count": 14,
   "metadata": {
    "pycharm": {
     "name": "#%%\n"
    }
   },
   "outputs": [],
   "source": [
    "df_stats = pd.DataFrame(index = df.index, columns=fighter1_cols + fighter2_cols) # + ['roundsCount'])\n",
    "\n",
    "suppl_cols =  ['id', 'city', 'completed', 'country', 'duration','eventDate_date','fighterId_1', 'fighterId_2', 'name', 'rounds', 'timezone', 'weightCategory_name', 'winMethods', 'winnerId', 'odd1', 'odd2', 'winner',]\n",
    "\n",
    "df_stats[suppl_cols] = df[suppl_cols]"
   ]
  },
  {
   "cell_type": "code",
   "execution_count": 15,
   "metadata": {
    "pycharm": {
     "name": "#%%\n"
    },
    "scrolled": true
   },
   "outputs": [
    {
     "name": "stderr",
     "output_type": "stream",
     "text": [
      "100%|██████████| 7100/7100 [04:42<00:00, 25.14it/s]\n"
     ]
    },
    {
     "data": {
      "text/plain": "     hitsPM_fighter1 accentedHitsPM_fighter1 takedownsPM_fighter1  \\\n3029       38.823529               38.823529                  0.0   \n2572            31.8                    27.0                  0.6   \n5916       72.272727               72.272727                  0.0   \n6049        7.368421                6.947368             0.210526   \n5740       22.471042               18.301158             0.926641   \n\n     accentedHitsDistancePM_fighter1 accentedHitsClinchPM_fighter1  \\\n3029                       17.647059                           0.0   \n2572                            21.2                           5.8   \n5916                       72.272727                           0.0   \n6049                        1.684211                      2.736842   \n5740                        4.401544                      1.389961   \n\n     accentedHitsParterPM_fighter1 hitsSuccessfulPM_fighter1  \\\n3029                     21.176471                 31.764706   \n2572                           0.0                      17.2   \n5916                           0.0                 32.727273   \n6049                      2.526316                  6.526316   \n5740                     12.509653                 17.142857   \n\n     takedownsSuccessfulPM_fighter1 accentedHitsDistanceSuccessfulPM_fighter1  \\\n3029                            0.0                                 10.588235   \n2572                            0.0                                       8.0   \n5916                            0.0                                 32.727273   \n6049                            0.0                                  1.052632   \n5740                            0.0                                  1.621622   \n\n     accentedHitsClinchSuccessfulPM_fighter1  \\\n3029                                     0.0   \n2572                                     5.4   \n5916                                     0.0   \n6049                                2.526316   \n5740                                1.158301   \n\n     accentedHitsParterSuccessfulPM_fighter1 hitsSuccessful_percent_fighter1  \\\n3029                               21.176471                        0.818182   \n2572                                     0.0                        0.540881   \n5916                                     0.0                         0.45283   \n6049                                2.526316                        0.885714   \n5740                                10.42471                        0.762887   \n\n     accentedHitsSuccessful_percent_fighter1 accentedHits_percent_fighter1  \\\n3029                                0.818182                           1.0   \n2572                                0.421384                      0.849057   \n5916                                 0.45283                           1.0   \n6049                                0.828571                      0.942857   \n5740                                0.587629                      0.814433   \n\n     takedownSuccessful_percent_fighter1  \\\n3029                                 NaN   \n2572                                 0.0   \n5916                                 NaN   \n6049                                 0.0   \n5740                                 0.0   \n\n     accentedHitsPositionDistanceSuccessful_prcent_fighter1  \\\n3029                                           1.666667       \n2572                                               2.65       \n5916                                           2.208333       \n6049                                                1.6       \n5740                                           2.714286       \n\n     accentedHitsPositionClinchSuccessful_percent_fighter1  \\\n3029                                                NaN      \n2572                                           1.074074      \n5916                                                NaN      \n6049                                           1.083333      \n5740                                                1.2      \n\n     accentedHitsPositionParterSuccessful_percent_fighter1  \\\n3029                                                1.0      \n2572                                                NaN      \n5916                                                NaN      \n6049                                                1.0      \n5740                                                1.2      \n\n     takedowns_to_hits_fighter1 HitsPositionDistance_to_hits_fighter1  \\\n3029                        0.0                              0.333333   \n2572                        0.0                              0.465116   \n5916                        0.0                                   1.0   \n6049                        0.0                               0.16129   \n5740                        0.0                              0.094595   \n\n     HitsPositionClinch_to_hits_fighter1 HitsPositionParter_to_hits_fighter1  \\\n3029                                 0.0                            0.666667   \n2572                            0.313953                                 0.0   \n5916                                 0.0                                 0.0   \n6049                            0.387097                            0.387097   \n5740                            0.067568                            0.608108   \n\n     sigStrikesAccuracy_fighter1 significantStrikesLandPerMinute_fighter1  \\\n3029                    0.818182                                31.764706   \n2572                    0.496296                                     13.4   \n5916                     0.45283                                32.727273   \n6049                    0.878788                                 6.105263   \n5740                    0.721519                                13.204633   \n\n     takedownsAccuracy_fighter1 takedownsPer15min_fighter1 hitsPM_fighter2  \\\n3029                        NaN                        0.0       10.588235   \n2572                        0.0                        0.0            26.0   \n5916                        NaN                        0.0       68.181818   \n6049                        0.0                        0.0       21.263158   \n5740                        0.0                        0.0        1.621622   \n\n     accentedHitsPM_fighter2 takedownsPM_fighter2  \\\n3029               10.588235                  0.0   \n2572                    23.0                  1.0   \n5916               68.181818                  0.0   \n6049               12.210526                  0.0   \n5740                1.389961                  0.0   \n\n     accentedHitsDistancePM_fighter2 accentedHitsClinchPM_fighter2  \\\n3029                       10.588235                           0.0   \n2572                            18.0                           4.0   \n5916                       58.636364                      9.545455   \n6049                        5.473684                      6.736842   \n5740                        1.389961                           0.0   \n\n     accentedHitsParterPM_fighter2 hitsSuccessfulPM_fighter2  \\\n3029                           0.0                  7.058824   \n2572                           1.0                      15.0   \n5916                           0.0                 35.454545   \n6049                           0.0                 16.421053   \n5740                           0.0                   0.23166   \n\n     takedownsSuccessfulPM_fighter2 accentedHitsDistanceSuccessfulPM_fighter2  \\\n3029                            0.0                                  7.058824   \n2572                            0.4                                       8.0   \n5916                            0.0                                 25.909091   \n6049                            0.0                                  2.526316   \n5740                            0.0                                       0.0   \n\n     accentedHitsClinchSuccessfulPM_fighter2  \\\n3029                                     0.0   \n2572                                     3.6   \n5916                                9.545455   \n6049                                5.473684   \n5740                                     0.0   \n\n     accentedHitsParterSuccessfulPM_fighter2 hitsSuccessful_percent_fighter2  \\\n3029                                     0.0                        0.666667   \n2572                                     1.0                        0.576923   \n5916                                     0.0                            0.52   \n6049                                     0.0                        0.772277   \n5740                                     0.0                        0.142857   \n\n     accentedHitsSuccessful_percent_fighter2 accentedHits_percent_fighter2  \\\n3029                                0.666667                           1.0   \n2572                                0.484615                      0.884615   \n5916                                    0.52                           1.0   \n6049                                0.376238                      0.574257   \n5740                                     0.0                      0.857143   \n\n     takedownSuccessful_percent_fighter2  \\\n3029                                 NaN   \n2572                                 0.4   \n5916                                 NaN   \n6049                                 NaN   \n5740                                 NaN   \n\n     accentedHitsPositionDistanceSuccessful_prcent_fighter2  \\\n3029                                                1.5       \n2572                                               2.25       \n5916                                           2.263158       \n6049                                           2.166667       \n5740                                                NaN       \n\n     accentedHitsPositionClinchSuccessful_percent_fighter2  \\\n3029                                                NaN      \n2572                                           1.111111      \n5916                                                1.0      \n6049                                           1.230769      \n5740                                                NaN      \n\n     accentedHitsPositionParterSuccessful_percent_fighter2  \\\n3029                                                NaN      \n2572                                                1.0      \n5916                                                NaN      \n6049                                                NaN      \n5740                                                NaN      \n\n     takedowns_to_hits_fighter2 HitsPositionDistance_to_hits_fighter2  \\\n3029                        0.0                                   1.0   \n2572                   0.026667                              0.533333   \n5916                        0.0                              0.730769   \n6049                        0.0                              0.153846   \n5740                        0.0                                   0.0   \n\n     HitsPositionClinch_to_hits_fighter2 HitsPositionParter_to_hits_fighter2  \\\n3029                                 0.0                                 0.0   \n2572                                0.24                            0.066667   \n5916                            0.269231                                 0.0   \n6049                            0.333333                                 0.0   \n5740                                 0.0                                 0.0   \n\n     sigStrikesAccuracy_fighter2 significantStrikesLandPerMinute_fighter2  \\\n3029                    0.666667                                 7.058824   \n2572                    0.547826                                     12.6   \n5916                        0.52                                35.454545   \n6049                    0.655172                                      8.0   \n5740                         0.0                                      0.0   \n\n     takedownsAccuracy_fighter2 takedownsPer15min_fighter2    id  \\\n3029                        NaN                        0.0  3199   \n2572                        0.4                        6.0  6154   \n5916                        NaN                        0.0   296   \n6049                        NaN                        0.0   185   \n5740                        NaN                        0.0   494   \n\n                  city  completed country  duration eventDate_date  \\\n3029            Denver       True     USA      17.0     2012-08-11   \n2572              Kent       True     USA     300.0     2011-06-24   \n5916         Fortaleza       True  Brazil      44.0     2019-02-02   \n6049  Saint Petersburg       True  Russia     285.0     2019-04-20   \n5740            Dallas       True     USA     259.0     2018-09-08   \n\n      fighterId_1  fighterId_2                        name  rounds  \\\n3029          902         1300                     UFC 150     1.0   \n2572         1206         3018  Strikeforce Challengers 16     3.0   \n5916          234          571         UFC Fight Night 144     2.0   \n6049          269          515         UFC Fight Night 149     1.0   \n5740           80          565                     UFC 228     2.0   \n\n               timezone weightCategory_name winMethods  winnerId  odd1  odd2  \\\n3029     America/Denver       Легчайший вес     ['KO']     902.0   NaN   NaN   \n2572   America/New_York          Легкий вес    ['DEC']    3018.0   NaN   NaN   \n5916  America/Fortaleza      Полулегкий вес     ['KO']     571.0  1.74  2.29   \n6049      Europe/Moscow         Тяжелый вес     ['KO']     269.0  1.42  3.11   \n5740    America/Chicago     Полусредний вес    ['SUB']      80.0  2.10  1.95   \n\n      winner  \n3029    True  \n2572   False  \n5916   False  \n6049    True  \n5740    True  ",
      "text/html": "<div>\n<style scoped>\n    .dataframe tbody tr th:only-of-type {\n        vertical-align: middle;\n    }\n\n    .dataframe tbody tr th {\n        vertical-align: top;\n    }\n\n    .dataframe thead th {\n        text-align: right;\n    }\n</style>\n<table border=\"1\" class=\"dataframe\">\n  <thead>\n    <tr style=\"text-align: right;\">\n      <th></th>\n      <th>hitsPM_fighter1</th>\n      <th>accentedHitsPM_fighter1</th>\n      <th>takedownsPM_fighter1</th>\n      <th>accentedHitsDistancePM_fighter1</th>\n      <th>accentedHitsClinchPM_fighter1</th>\n      <th>accentedHitsParterPM_fighter1</th>\n      <th>hitsSuccessfulPM_fighter1</th>\n      <th>takedownsSuccessfulPM_fighter1</th>\n      <th>accentedHitsDistanceSuccessfulPM_fighter1</th>\n      <th>accentedHitsClinchSuccessfulPM_fighter1</th>\n      <th>accentedHitsParterSuccessfulPM_fighter1</th>\n      <th>hitsSuccessful_percent_fighter1</th>\n      <th>accentedHitsSuccessful_percent_fighter1</th>\n      <th>accentedHits_percent_fighter1</th>\n      <th>takedownSuccessful_percent_fighter1</th>\n      <th>accentedHitsPositionDistanceSuccessful_prcent_fighter1</th>\n      <th>accentedHitsPositionClinchSuccessful_percent_fighter1</th>\n      <th>accentedHitsPositionParterSuccessful_percent_fighter1</th>\n      <th>takedowns_to_hits_fighter1</th>\n      <th>HitsPositionDistance_to_hits_fighter1</th>\n      <th>HitsPositionClinch_to_hits_fighter1</th>\n      <th>HitsPositionParter_to_hits_fighter1</th>\n      <th>sigStrikesAccuracy_fighter1</th>\n      <th>significantStrikesLandPerMinute_fighter1</th>\n      <th>takedownsAccuracy_fighter1</th>\n      <th>takedownsPer15min_fighter1</th>\n      <th>hitsPM_fighter2</th>\n      <th>accentedHitsPM_fighter2</th>\n      <th>takedownsPM_fighter2</th>\n      <th>accentedHitsDistancePM_fighter2</th>\n      <th>accentedHitsClinchPM_fighter2</th>\n      <th>accentedHitsParterPM_fighter2</th>\n      <th>hitsSuccessfulPM_fighter2</th>\n      <th>takedownsSuccessfulPM_fighter2</th>\n      <th>accentedHitsDistanceSuccessfulPM_fighter2</th>\n      <th>accentedHitsClinchSuccessfulPM_fighter2</th>\n      <th>accentedHitsParterSuccessfulPM_fighter2</th>\n      <th>hitsSuccessful_percent_fighter2</th>\n      <th>accentedHitsSuccessful_percent_fighter2</th>\n      <th>accentedHits_percent_fighter2</th>\n      <th>takedownSuccessful_percent_fighter2</th>\n      <th>accentedHitsPositionDistanceSuccessful_prcent_fighter2</th>\n      <th>accentedHitsPositionClinchSuccessful_percent_fighter2</th>\n      <th>accentedHitsPositionParterSuccessful_percent_fighter2</th>\n      <th>takedowns_to_hits_fighter2</th>\n      <th>HitsPositionDistance_to_hits_fighter2</th>\n      <th>HitsPositionClinch_to_hits_fighter2</th>\n      <th>HitsPositionParter_to_hits_fighter2</th>\n      <th>sigStrikesAccuracy_fighter2</th>\n      <th>significantStrikesLandPerMinute_fighter2</th>\n      <th>takedownsAccuracy_fighter2</th>\n      <th>takedownsPer15min_fighter2</th>\n      <th>id</th>\n      <th>city</th>\n      <th>completed</th>\n      <th>country</th>\n      <th>duration</th>\n      <th>eventDate_date</th>\n      <th>fighterId_1</th>\n      <th>fighterId_2</th>\n      <th>name</th>\n      <th>rounds</th>\n      <th>timezone</th>\n      <th>weightCategory_name</th>\n      <th>winMethods</th>\n      <th>winnerId</th>\n      <th>odd1</th>\n      <th>odd2</th>\n      <th>winner</th>\n    </tr>\n  </thead>\n  <tbody>\n    <tr>\n      <th>3029</th>\n      <td>38.823529</td>\n      <td>38.823529</td>\n      <td>0.0</td>\n      <td>17.647059</td>\n      <td>0.0</td>\n      <td>21.176471</td>\n      <td>31.764706</td>\n      <td>0.0</td>\n      <td>10.588235</td>\n      <td>0.0</td>\n      <td>21.176471</td>\n      <td>0.818182</td>\n      <td>0.818182</td>\n      <td>1.0</td>\n      <td>NaN</td>\n      <td>1.666667</td>\n      <td>NaN</td>\n      <td>1.0</td>\n      <td>0.0</td>\n      <td>0.333333</td>\n      <td>0.0</td>\n      <td>0.666667</td>\n      <td>0.818182</td>\n      <td>31.764706</td>\n      <td>NaN</td>\n      <td>0.0</td>\n      <td>10.588235</td>\n      <td>10.588235</td>\n      <td>0.0</td>\n      <td>10.588235</td>\n      <td>0.0</td>\n      <td>0.0</td>\n      <td>7.058824</td>\n      <td>0.0</td>\n      <td>7.058824</td>\n      <td>0.0</td>\n      <td>0.0</td>\n      <td>0.666667</td>\n      <td>0.666667</td>\n      <td>1.0</td>\n      <td>NaN</td>\n      <td>1.5</td>\n      <td>NaN</td>\n      <td>NaN</td>\n      <td>0.0</td>\n      <td>1.0</td>\n      <td>0.0</td>\n      <td>0.0</td>\n      <td>0.666667</td>\n      <td>7.058824</td>\n      <td>NaN</td>\n      <td>0.0</td>\n      <td>3199</td>\n      <td>Denver</td>\n      <td>True</td>\n      <td>USA</td>\n      <td>17.0</td>\n      <td>2012-08-11</td>\n      <td>902</td>\n      <td>1300</td>\n      <td>UFC 150</td>\n      <td>1.0</td>\n      <td>America/Denver</td>\n      <td>Легчайший вес</td>\n      <td>['KO']</td>\n      <td>902.0</td>\n      <td>NaN</td>\n      <td>NaN</td>\n      <td>True</td>\n    </tr>\n    <tr>\n      <th>2572</th>\n      <td>31.8</td>\n      <td>27.0</td>\n      <td>0.6</td>\n      <td>21.2</td>\n      <td>5.8</td>\n      <td>0.0</td>\n      <td>17.2</td>\n      <td>0.0</td>\n      <td>8.0</td>\n      <td>5.4</td>\n      <td>0.0</td>\n      <td>0.540881</td>\n      <td>0.421384</td>\n      <td>0.849057</td>\n      <td>0.0</td>\n      <td>2.65</td>\n      <td>1.074074</td>\n      <td>NaN</td>\n      <td>0.0</td>\n      <td>0.465116</td>\n      <td>0.313953</td>\n      <td>0.0</td>\n      <td>0.496296</td>\n      <td>13.4</td>\n      <td>0.0</td>\n      <td>0.0</td>\n      <td>26.0</td>\n      <td>23.0</td>\n      <td>1.0</td>\n      <td>18.0</td>\n      <td>4.0</td>\n      <td>1.0</td>\n      <td>15.0</td>\n      <td>0.4</td>\n      <td>8.0</td>\n      <td>3.6</td>\n      <td>1.0</td>\n      <td>0.576923</td>\n      <td>0.484615</td>\n      <td>0.884615</td>\n      <td>0.4</td>\n      <td>2.25</td>\n      <td>1.111111</td>\n      <td>1.0</td>\n      <td>0.026667</td>\n      <td>0.533333</td>\n      <td>0.24</td>\n      <td>0.066667</td>\n      <td>0.547826</td>\n      <td>12.6</td>\n      <td>0.4</td>\n      <td>6.0</td>\n      <td>6154</td>\n      <td>Kent</td>\n      <td>True</td>\n      <td>USA</td>\n      <td>300.0</td>\n      <td>2011-06-24</td>\n      <td>1206</td>\n      <td>3018</td>\n      <td>Strikeforce Challengers 16</td>\n      <td>3.0</td>\n      <td>America/New_York</td>\n      <td>Легкий вес</td>\n      <td>['DEC']</td>\n      <td>3018.0</td>\n      <td>NaN</td>\n      <td>NaN</td>\n      <td>False</td>\n    </tr>\n    <tr>\n      <th>5916</th>\n      <td>72.272727</td>\n      <td>72.272727</td>\n      <td>0.0</td>\n      <td>72.272727</td>\n      <td>0.0</td>\n      <td>0.0</td>\n      <td>32.727273</td>\n      <td>0.0</td>\n      <td>32.727273</td>\n      <td>0.0</td>\n      <td>0.0</td>\n      <td>0.45283</td>\n      <td>0.45283</td>\n      <td>1.0</td>\n      <td>NaN</td>\n      <td>2.208333</td>\n      <td>NaN</td>\n      <td>NaN</td>\n      <td>0.0</td>\n      <td>1.0</td>\n      <td>0.0</td>\n      <td>0.0</td>\n      <td>0.45283</td>\n      <td>32.727273</td>\n      <td>NaN</td>\n      <td>0.0</td>\n      <td>68.181818</td>\n      <td>68.181818</td>\n      <td>0.0</td>\n      <td>58.636364</td>\n      <td>9.545455</td>\n      <td>0.0</td>\n      <td>35.454545</td>\n      <td>0.0</td>\n      <td>25.909091</td>\n      <td>9.545455</td>\n      <td>0.0</td>\n      <td>0.52</td>\n      <td>0.52</td>\n      <td>1.0</td>\n      <td>NaN</td>\n      <td>2.263158</td>\n      <td>1.0</td>\n      <td>NaN</td>\n      <td>0.0</td>\n      <td>0.730769</td>\n      <td>0.269231</td>\n      <td>0.0</td>\n      <td>0.52</td>\n      <td>35.454545</td>\n      <td>NaN</td>\n      <td>0.0</td>\n      <td>296</td>\n      <td>Fortaleza</td>\n      <td>True</td>\n      <td>Brazil</td>\n      <td>44.0</td>\n      <td>2019-02-02</td>\n      <td>234</td>\n      <td>571</td>\n      <td>UFC Fight Night 144</td>\n      <td>2.0</td>\n      <td>America/Fortaleza</td>\n      <td>Полулегкий вес</td>\n      <td>['KO']</td>\n      <td>571.0</td>\n      <td>1.74</td>\n      <td>2.29</td>\n      <td>False</td>\n    </tr>\n    <tr>\n      <th>6049</th>\n      <td>7.368421</td>\n      <td>6.947368</td>\n      <td>0.210526</td>\n      <td>1.684211</td>\n      <td>2.736842</td>\n      <td>2.526316</td>\n      <td>6.526316</td>\n      <td>0.0</td>\n      <td>1.052632</td>\n      <td>2.526316</td>\n      <td>2.526316</td>\n      <td>0.885714</td>\n      <td>0.828571</td>\n      <td>0.942857</td>\n      <td>0.0</td>\n      <td>1.6</td>\n      <td>1.083333</td>\n      <td>1.0</td>\n      <td>0.0</td>\n      <td>0.16129</td>\n      <td>0.387097</td>\n      <td>0.387097</td>\n      <td>0.878788</td>\n      <td>6.105263</td>\n      <td>0.0</td>\n      <td>0.0</td>\n      <td>21.263158</td>\n      <td>12.210526</td>\n      <td>0.0</td>\n      <td>5.473684</td>\n      <td>6.736842</td>\n      <td>0.0</td>\n      <td>16.421053</td>\n      <td>0.0</td>\n      <td>2.526316</td>\n      <td>5.473684</td>\n      <td>0.0</td>\n      <td>0.772277</td>\n      <td>0.376238</td>\n      <td>0.574257</td>\n      <td>NaN</td>\n      <td>2.166667</td>\n      <td>1.230769</td>\n      <td>NaN</td>\n      <td>0.0</td>\n      <td>0.153846</td>\n      <td>0.333333</td>\n      <td>0.0</td>\n      <td>0.655172</td>\n      <td>8.0</td>\n      <td>NaN</td>\n      <td>0.0</td>\n      <td>185</td>\n      <td>Saint Petersburg</td>\n      <td>True</td>\n      <td>Russia</td>\n      <td>285.0</td>\n      <td>2019-04-20</td>\n      <td>269</td>\n      <td>515</td>\n      <td>UFC Fight Night 149</td>\n      <td>1.0</td>\n      <td>Europe/Moscow</td>\n      <td>Тяжелый вес</td>\n      <td>['KO']</td>\n      <td>269.0</td>\n      <td>1.42</td>\n      <td>3.11</td>\n      <td>True</td>\n    </tr>\n    <tr>\n      <th>5740</th>\n      <td>22.471042</td>\n      <td>18.301158</td>\n      <td>0.926641</td>\n      <td>4.401544</td>\n      <td>1.389961</td>\n      <td>12.509653</td>\n      <td>17.142857</td>\n      <td>0.0</td>\n      <td>1.621622</td>\n      <td>1.158301</td>\n      <td>10.42471</td>\n      <td>0.762887</td>\n      <td>0.587629</td>\n      <td>0.814433</td>\n      <td>0.0</td>\n      <td>2.714286</td>\n      <td>1.2</td>\n      <td>1.2</td>\n      <td>0.0</td>\n      <td>0.094595</td>\n      <td>0.067568</td>\n      <td>0.608108</td>\n      <td>0.721519</td>\n      <td>13.204633</td>\n      <td>0.0</td>\n      <td>0.0</td>\n      <td>1.621622</td>\n      <td>1.389961</td>\n      <td>0.0</td>\n      <td>1.389961</td>\n      <td>0.0</td>\n      <td>0.0</td>\n      <td>0.23166</td>\n      <td>0.0</td>\n      <td>0.0</td>\n      <td>0.0</td>\n      <td>0.0</td>\n      <td>0.142857</td>\n      <td>0.0</td>\n      <td>0.857143</td>\n      <td>NaN</td>\n      <td>NaN</td>\n      <td>NaN</td>\n      <td>NaN</td>\n      <td>0.0</td>\n      <td>0.0</td>\n      <td>0.0</td>\n      <td>0.0</td>\n      <td>0.0</td>\n      <td>0.0</td>\n      <td>NaN</td>\n      <td>0.0</td>\n      <td>494</td>\n      <td>Dallas</td>\n      <td>True</td>\n      <td>USA</td>\n      <td>259.0</td>\n      <td>2018-09-08</td>\n      <td>80</td>\n      <td>565</td>\n      <td>UFC 228</td>\n      <td>2.0</td>\n      <td>America/Chicago</td>\n      <td>Полусредний вес</td>\n      <td>['SUB']</td>\n      <td>80.0</td>\n      <td>2.10</td>\n      <td>1.95</td>\n      <td>True</td>\n    </tr>\n  </tbody>\n</table>\n</div>"
     },
     "execution_count": 15,
     "metadata": {},
     "output_type": "execute_result"
    }
   ],
   "source": [
    "for i in tqdm(df.index[:]):\n",
    "    fighters = df.loc[i, 'fighters']\n",
    "    fighterId_1, fighterId_2, duration = df.loc[i, ['fighterId_1', 'fighterId_2', 'duration']]\n",
    "\n",
    "    # Check index of fighters in dict\n",
    "    if fighters[0]['fighterId'] == fighterId_1:\n",
    "        fighterId_1_ind = 0\n",
    "        fighterId_2_ind = 1\n",
    "    else:\n",
    "        fighterId_1_ind = 1\n",
    "        fighterId_2_ind = 0\n",
    "\n",
    "    fighter1_stats = parse_data_from_fight(fighters[fighterId_1_ind]['fightStats'], duration)\n",
    "    fighter2_stats = parse_data_from_fight(fighters[fighterId_2_ind]['fightStats'], duration)\n",
    "\n",
    "    df_stats.loc[i, fighter1_cols] = fighter1_stats\n",
    "    df_stats.loc[i, fighter2_cols] = fighter2_stats\n",
    "\n",
    "df_stats.sample(5)"
   ]
  },
  {
   "cell_type": "markdown",
   "metadata": {
    "pycharm": {
     "name": "#%% md\n"
    }
   },
   "source": [
    "Пропуски в статистических данных думаю, заполнять не стоит. Нужно их правильно обрабатывать при аггрегировании в сумму далее\n",
    "Пропуски в общей статистике - нужно попытаться исправить."
   ]
  },
  {
   "cell_type": "code",
   "execution_count": 16,
   "metadata": {
    "pycharm": {
     "name": "#%%\n"
    }
   },
   "outputs": [],
   "source": [
    "# drop fights, where win method is not recognised ('[]')\n",
    "df_stats = df_stats[~(df_stats.winMethods == '[]')]"
   ]
  },
  {
   "cell_type": "code",
   "execution_count": 17,
   "metadata": {
    "pycharm": {
     "name": "#%%\n"
    }
   },
   "outputs": [],
   "source": [
    "# просто удалим строки с пропущенной длительностью и количеством раундов: что с ними делать - совсем не понятно\n",
    "df_stats = df_stats[~pd.isna(df_stats.duration)]"
   ]
  },
  {
   "cell_type": "code",
   "execution_count": 18,
   "metadata": {
    "pycharm": {
     "name": "#%%\n"
    }
   },
   "outputs": [
    {
     "data": {
      "text/plain": "hitsPM_fighter1                      24\naccentedHitsPM_fighter1              24\ntakedownsPM_fighter1                 24\naccentedHitsDistancePM_fighter1      24\naccentedHitsClinchPM_fighter1        24\n                                   ... \nwinMethods                            0\nwinnerId                              0\nodd1                               3299\nodd2                               3299\nwinner                                0\nLength: 69, dtype: int64"
     },
     "execution_count": 18,
     "metadata": {},
     "output_type": "execute_result"
    }
   ],
   "source": [
    "df_stats.isna().sum()"
   ]
  },
  {
   "cell_type": "code",
   "execution_count": 19,
   "metadata": {
    "pycharm": {
     "name": "#%%\n"
    }
   },
   "outputs": [],
   "source": [
    "# fill NaN in vector 'country'  as 'USA\" - the most frequency value\n",
    "df_stats.country.fillna('USA', inplace=True)"
   ]
  },
  {
   "cell_type": "code",
   "execution_count": 20,
   "metadata": {
    "pycharm": {
     "name": "#%%\n"
    }
   },
   "outputs": [],
   "source": [
    "# fill NaN in vector 'city' as 'Las Vegas' and 'Rio de Janeiro' - the most frequency values per country\n",
    "df_stats.loc[(df_stats.city.isnull()) & (df_stats.country=='USA'), 'city'] = 'Las Vegas'\n",
    "df_stats.loc[(df_stats.city.isnull()) & (df_stats.country=='Brazil'), 'city'] = 'Rio de Janeiro'"
   ]
  },
  {
   "cell_type": "code",
   "execution_count": 21,
   "metadata": {
    "pycharm": {
     "name": "#%%\n"
    }
   },
   "outputs": [
    {
     "data": {
      "text/plain": "hitsPM_fighter1                      24\naccentedHitsPM_fighter1              24\ntakedownsPM_fighter1                 24\naccentedHitsDistancePM_fighter1      24\naccentedHitsClinchPM_fighter1        24\n                                   ... \nwinMethods                            0\nwinnerId                              0\nodd1                               3299\nodd2                               3299\nwinner                                0\nLength: 69, dtype: int64"
     },
     "execution_count": 21,
     "metadata": {},
     "output_type": "execute_result"
    }
   ],
   "source": [
    "df_stats.isna().sum()"
   ]
  },
  {
   "cell_type": "code",
   "execution_count": null,
   "outputs": [],
   "source": [
    "df_stats.drop_duplicates(inplace=True) # удалим дубликат id=1621"
   ],
   "metadata": {
    "collapsed": false,
    "pycharm": {
     "name": "#%%\n"
    }
   }
  },
  {
   "cell_type": "markdown",
   "source": [
    "### Данные о бойцах"
   ],
   "metadata": {
    "collapsed": false,
    "pycharm": {
     "name": "#%% md\n"
    }
   }
  },
  {
   "cell_type": "code",
   "execution_count": 22,
   "metadata": {
    "pycharm": {
     "name": "#%%\n"
    }
   },
   "outputs": [],
   "source": [
    "list_stat = ['id', 'rank', 'height', 'weight', 'birthYear', 'wins']\n",
    "df_fighters_copy = fighters_df[list_stat].copy()"
   ]
  },
  {
   "cell_type": "code",
   "execution_count": 23,
   "metadata": {
    "pycharm": {
     "name": "#%%\n"
    }
   },
   "outputs": [
    {
     "data": {
      "text/plain": "(id             0\n rank           0\n height       334\n weight       139\n birthYear     70\n wins           0\n dtype: int64,\n (3669, 6))"
     },
     "execution_count": 23,
     "metadata": {},
     "output_type": "execute_result"
    }
   ],
   "source": [
    "df_fighters_copy.isna().sum(), df_fighters_copy.shape\n",
    "\n",
    "#tem = pd.merge(df_stats, df_fighters_copy, left_on='fighterId_1', right_on='id', how='left')\n",
    "#tem.isna().sum()"
   ]
  },
  {
   "cell_type": "code",
   "execution_count": 24,
   "metadata": {
    "pycharm": {
     "name": "#%%\n"
    }
   },
   "outputs": [],
   "source": [
    "# fill NaN with average values\n",
    "df_fighters_copy.height.fillna(df_fighters_copy.height.mean(), inplace=True)\n",
    "df_fighters_copy.weight.fillna(df_fighters_copy.weight.mean(), inplace=True)\n",
    "df_fighters_copy.birthYear.fillna(int(df_fighters_copy.birthYear.mean()), inplace=True)"
   ]
  },
  {
   "cell_type": "code",
   "execution_count": 25,
   "metadata": {
    "pycharm": {
     "name": "#%%\n"
    }
   },
   "outputs": [
    {
     "data": {
      "text/plain": "id           0\nrank         0\nheight       0\nweight       0\nbirthYear    0\nwins         0\ndtype: int64"
     },
     "execution_count": 25,
     "metadata": {},
     "output_type": "execute_result"
    }
   ],
   "source": [
    "df_fighters_copy.isna().sum()"
   ]
  },
  {
   "cell_type": "markdown",
   "metadata": {
    "pycharm": {
     "name": "#%% md\n"
    }
   },
   "source": [
    "# Resume\n",
    "В итоге ролучилось две таблицы df_stats и df_fighters_copy.\n",
    "я полумал, что слияние таблиц будет лучше сделать после разделения датасета по бойцам, чтобы не плодить векторы признаков, которые там не нужны..."
   ]
  },
  {
   "cell_type": "code",
   "execution_count": 152,
   "metadata": {
    "pycharm": {
     "name": "#%%\n"
    }
   },
   "outputs": [
    {
     "data": {
      "text/plain": "        id  rank  height  weight  birthYear  wins\n0        1    16  187.96  115.67     1991.0    17\n1        2    16  190.50  112.04     1989.0     6\n2        3    16  190.50  106.59     1981.0    20\n3        4    16  182.88   92.99     1992.0    15\n4        5    16  177.80   77.11     1975.0    14\n...    ...   ...     ...     ...        ...   ...\n3664  3673    16  182.88   83.91     1991.0    18\n3665  3674    16  182.88   77.11     1987.0    15\n3666  3675    16  170.18   65.77     1994.0    11\n3667  3676    16  175.26   65.77     1990.0    13\n3668  3677    16  172.72   61.24     1988.0    16\n\n[3669 rows x 6 columns]",
      "text/html": "<div>\n<style scoped>\n    .dataframe tbody tr th:only-of-type {\n        vertical-align: middle;\n    }\n\n    .dataframe tbody tr th {\n        vertical-align: top;\n    }\n\n    .dataframe thead th {\n        text-align: right;\n    }\n</style>\n<table border=\"1\" class=\"dataframe\">\n  <thead>\n    <tr style=\"text-align: right;\">\n      <th></th>\n      <th>id</th>\n      <th>rank</th>\n      <th>height</th>\n      <th>weight</th>\n      <th>birthYear</th>\n      <th>wins</th>\n    </tr>\n  </thead>\n  <tbody>\n    <tr>\n      <th>0</th>\n      <td>1</td>\n      <td>16</td>\n      <td>187.96</td>\n      <td>115.67</td>\n      <td>1991.0</td>\n      <td>17</td>\n    </tr>\n    <tr>\n      <th>1</th>\n      <td>2</td>\n      <td>16</td>\n      <td>190.50</td>\n      <td>112.04</td>\n      <td>1989.0</td>\n      <td>6</td>\n    </tr>\n    <tr>\n      <th>2</th>\n      <td>3</td>\n      <td>16</td>\n      <td>190.50</td>\n      <td>106.59</td>\n      <td>1981.0</td>\n      <td>20</td>\n    </tr>\n    <tr>\n      <th>3</th>\n      <td>4</td>\n      <td>16</td>\n      <td>182.88</td>\n      <td>92.99</td>\n      <td>1992.0</td>\n      <td>15</td>\n    </tr>\n    <tr>\n      <th>4</th>\n      <td>5</td>\n      <td>16</td>\n      <td>177.80</td>\n      <td>77.11</td>\n      <td>1975.0</td>\n      <td>14</td>\n    </tr>\n    <tr>\n      <th>...</th>\n      <td>...</td>\n      <td>...</td>\n      <td>...</td>\n      <td>...</td>\n      <td>...</td>\n      <td>...</td>\n    </tr>\n    <tr>\n      <th>3664</th>\n      <td>3673</td>\n      <td>16</td>\n      <td>182.88</td>\n      <td>83.91</td>\n      <td>1991.0</td>\n      <td>18</td>\n    </tr>\n    <tr>\n      <th>3665</th>\n      <td>3674</td>\n      <td>16</td>\n      <td>182.88</td>\n      <td>77.11</td>\n      <td>1987.0</td>\n      <td>15</td>\n    </tr>\n    <tr>\n      <th>3666</th>\n      <td>3675</td>\n      <td>16</td>\n      <td>170.18</td>\n      <td>65.77</td>\n      <td>1994.0</td>\n      <td>11</td>\n    </tr>\n    <tr>\n      <th>3667</th>\n      <td>3676</td>\n      <td>16</td>\n      <td>175.26</td>\n      <td>65.77</td>\n      <td>1990.0</td>\n      <td>13</td>\n    </tr>\n    <tr>\n      <th>3668</th>\n      <td>3677</td>\n      <td>16</td>\n      <td>172.72</td>\n      <td>61.24</td>\n      <td>1988.0</td>\n      <td>16</td>\n    </tr>\n  </tbody>\n</table>\n<p>3669 rows × 6 columns</p>\n</div>"
     },
     "execution_count": 152,
     "metadata": {},
     "output_type": "execute_result"
    }
   ],
   "source": [
    "df_fighters_copy"
   ]
  },
  {
   "cell_type": "code",
   "execution_count": 28,
   "outputs": [
    {
     "data": {
      "text/plain": "True     4544\nFalse    2342\nName: winner, dtype: int64"
     },
     "execution_count": 28,
     "metadata": {},
     "output_type": "execute_result"
    }
   ],
   "source": [
    "df_stats.winner.value_counts()\n",
    "# боец в красном углу побеждал в два раза чаще бойца в синем.\n",
    "# по статистике, боец в красном углу - это фаворит боя - побеждает в 90% случае. Судьи ставят на 13% больше очков красному углу."
   ],
   "metadata": {
    "collapsed": false,
    "pycharm": {
     "name": "#%%\n"
    }
   }
  },
  {
   "cell_type": "markdown",
   "metadata": {
    "pycharm": {
     "name": "#%% md\n"
    }
   },
   "source": [
    "## Задача 2: Функция расчета статистики\n",
    "* кумулятивные формулы\n",
    "* простая статистика\n",
    "* Подключение данных в те бои, где у бойцов нет предыдущих боев, из таблицы fighters"
   ]
  },
  {
   "cell_type": "markdown",
   "metadata": {
    "pycharm": {
     "name": "#%% md\n"
    }
   },
   "source": [
    "Первый подпункт. Обработка типов побед"
   ]
  },
  {
   "cell_type": "code",
   "execution_count": 30,
   "metadata": {
    "pycharm": {
     "name": "#%%\n"
    }
   },
   "outputs": [],
   "source": [
    "df_stats['winMethods'] = df_stats['winMethods'].apply(lambda x: x[2:-2])\n",
    "y = pd.get_dummies(df_stats.winMethods, prefix='winMethods')\n",
    "df_stats[y.columns] = y"
   ]
  },
  {
   "cell_type": "code",
   "execution_count": 31,
   "metadata": {
    "pycharm": {
     "name": "#%%\n"
    }
   },
   "outputs": [
    {
     "data": {
      "text/plain": "                                      6364       260  6179     4000  4419  \\\nhitsPM_fighter1                   19.66805  24.736842  6.8  6.05042  34.8   \naccentedHitsPM_fighter1           19.66805       10.0  4.6  6.05042  29.0   \ntakedownsPM_fighter1                   0.0   4.210526  1.8      0.0   2.8   \naccentedHitsDistancePM_fighter1  19.419087   8.947368  2.0  6.05042  24.4   \naccentedHitsClinchPM_fighter1     0.248963   0.526316  0.8      0.0   3.6   \n...                                    ...        ...  ...      ...   ...   \nwinMethods_DQ                            0          0    0        0     0   \nwinMethods_KO                            0          1    0        1     0   \nwinMethods_NC                            0          0    0        0     0   \nwinMethods_SUB                           1          0    0        0     0   \nwinMethods_                              1          1    1        1     1   \n\n                                      1485       4839  2173      505   \\\nhitsPM_fighter1                  67.272727  37.526502  35.2  5.813149   \naccentedHitsPM_fighter1          44.242424  26.289753  32.2  4.775087   \ntakedownsPM_fighter1                   0.0        0.0   0.0       0.0   \naccentedHitsDistancePM_fighter1  29.090909  18.657244  26.2  2.076125   \naccentedHitsClinchPM_fighter1    13.333333   3.816254   4.8       0.0   \n...                                    ...        ...   ...       ...   \nwinMethods_DQ                            0          0     0         0   \nwinMethods_KO                            0          0     0         1   \nwinMethods_NC                            0          0     0         0   \nwinMethods_SUB                           1          1     0         0   \nwinMethods_                              1          1     1         1   \n\n                                      169   \nhitsPM_fighter1                  53.023256  \naccentedHitsPM_fighter1          19.534884  \ntakedownsPM_fighter1              7.674419  \naccentedHitsDistancePM_fighter1   4.883721  \naccentedHitsClinchPM_fighter1     0.697674  \n...                                    ...  \nwinMethods_DQ                            0  \nwinMethods_KO                            1  \nwinMethods_NC                            0  \nwinMethods_SUB                           0  \nwinMethods_                              1  \n\n[75 rows x 10 columns]",
      "text/html": "<div>\n<style scoped>\n    .dataframe tbody tr th:only-of-type {\n        vertical-align: middle;\n    }\n\n    .dataframe tbody tr th {\n        vertical-align: top;\n    }\n\n    .dataframe thead th {\n        text-align: right;\n    }\n</style>\n<table border=\"1\" class=\"dataframe\">\n  <thead>\n    <tr style=\"text-align: right;\">\n      <th></th>\n      <th>6364</th>\n      <th>260</th>\n      <th>6179</th>\n      <th>4000</th>\n      <th>4419</th>\n      <th>1485</th>\n      <th>4839</th>\n      <th>2173</th>\n      <th>505</th>\n      <th>169</th>\n    </tr>\n  </thead>\n  <tbody>\n    <tr>\n      <th>hitsPM_fighter1</th>\n      <td>19.66805</td>\n      <td>24.736842</td>\n      <td>6.8</td>\n      <td>6.05042</td>\n      <td>34.8</td>\n      <td>67.272727</td>\n      <td>37.526502</td>\n      <td>35.2</td>\n      <td>5.813149</td>\n      <td>53.023256</td>\n    </tr>\n    <tr>\n      <th>accentedHitsPM_fighter1</th>\n      <td>19.66805</td>\n      <td>10.0</td>\n      <td>4.6</td>\n      <td>6.05042</td>\n      <td>29.0</td>\n      <td>44.242424</td>\n      <td>26.289753</td>\n      <td>32.2</td>\n      <td>4.775087</td>\n      <td>19.534884</td>\n    </tr>\n    <tr>\n      <th>takedownsPM_fighter1</th>\n      <td>0.0</td>\n      <td>4.210526</td>\n      <td>1.8</td>\n      <td>0.0</td>\n      <td>2.8</td>\n      <td>0.0</td>\n      <td>0.0</td>\n      <td>0.0</td>\n      <td>0.0</td>\n      <td>7.674419</td>\n    </tr>\n    <tr>\n      <th>accentedHitsDistancePM_fighter1</th>\n      <td>19.419087</td>\n      <td>8.947368</td>\n      <td>2.0</td>\n      <td>6.05042</td>\n      <td>24.4</td>\n      <td>29.090909</td>\n      <td>18.657244</td>\n      <td>26.2</td>\n      <td>2.076125</td>\n      <td>4.883721</td>\n    </tr>\n    <tr>\n      <th>accentedHitsClinchPM_fighter1</th>\n      <td>0.248963</td>\n      <td>0.526316</td>\n      <td>0.8</td>\n      <td>0.0</td>\n      <td>3.6</td>\n      <td>13.333333</td>\n      <td>3.816254</td>\n      <td>4.8</td>\n      <td>0.0</td>\n      <td>0.697674</td>\n    </tr>\n    <tr>\n      <th>...</th>\n      <td>...</td>\n      <td>...</td>\n      <td>...</td>\n      <td>...</td>\n      <td>...</td>\n      <td>...</td>\n      <td>...</td>\n      <td>...</td>\n      <td>...</td>\n      <td>...</td>\n    </tr>\n    <tr>\n      <th>winMethods_DQ</th>\n      <td>0</td>\n      <td>0</td>\n      <td>0</td>\n      <td>0</td>\n      <td>0</td>\n      <td>0</td>\n      <td>0</td>\n      <td>0</td>\n      <td>0</td>\n      <td>0</td>\n    </tr>\n    <tr>\n      <th>winMethods_KO</th>\n      <td>0</td>\n      <td>1</td>\n      <td>0</td>\n      <td>1</td>\n      <td>0</td>\n      <td>0</td>\n      <td>0</td>\n      <td>0</td>\n      <td>1</td>\n      <td>1</td>\n    </tr>\n    <tr>\n      <th>winMethods_NC</th>\n      <td>0</td>\n      <td>0</td>\n      <td>0</td>\n      <td>0</td>\n      <td>0</td>\n      <td>0</td>\n      <td>0</td>\n      <td>0</td>\n      <td>0</td>\n      <td>0</td>\n    </tr>\n    <tr>\n      <th>winMethods_SUB</th>\n      <td>1</td>\n      <td>0</td>\n      <td>0</td>\n      <td>0</td>\n      <td>0</td>\n      <td>1</td>\n      <td>1</td>\n      <td>0</td>\n      <td>0</td>\n      <td>0</td>\n    </tr>\n    <tr>\n      <th>winMethods_</th>\n      <td>1</td>\n      <td>1</td>\n      <td>1</td>\n      <td>1</td>\n      <td>1</td>\n      <td>1</td>\n      <td>1</td>\n      <td>1</td>\n      <td>1</td>\n      <td>1</td>\n    </tr>\n  </tbody>\n</table>\n<p>75 rows × 10 columns</p>\n</div>"
     },
     "execution_count": 31,
     "metadata": {},
     "output_type": "execute_result"
    }
   ],
   "source": [
    "df_stats.sample(10).T"
   ]
  },
  {
   "cell_type": "code",
   "execution_count": 154,
   "metadata": {
    "pycharm": {
     "name": "#%%\n"
    }
   },
   "outputs": [],
   "source": [
    "def get_fighter_statistics_from_past(df_stats, fighterId, eventDate, item):\n",
    "    '''\n",
    "    Aggregate statistics from fighter from the past.\n",
    "    Check both positions 1 and 2.\n",
    "    '''\n",
    "    temp_df = df_stats[df_stats.eventDate_date < eventDate].copy()     # датасет до даты боя\n",
    "    item_df = df_stats[df_stats.id == item]                            # запись исследуемого боя\n",
    "\n",
    "    # если датасет по итогу фильтров пустой (боец в впервый раз в базе) -\n",
    "    # тогда данные оставляются из оригинальных данных боя\n",
    "    first_pos_df  = temp_df[temp_df['fighterId_1'] == fighterId]\n",
    "    if first_pos_df.empty:\n",
    "        first_pos_df = pd.DataFrame(item_df[fighter1_cols].values)\n",
    "    else:\n",
    "        first_pos_df  = pd.DataFrame(first_pos_df[fighter1_cols].values)\n",
    "\n",
    "    second_pos_df = df_stats[df_stats['fighterId_2'] == fighterId]\n",
    "    if second_pos_df.empty:\n",
    "        second_pos_df = pd.DataFrame(item_df[fighter2_cols].values)\n",
    "    else:\n",
    "        second_pos_df = pd.DataFrame(second_pos_df[fighter2_cols].values)\n",
    "\n",
    "    joined_df = first_pos_df.append(second_pos_df).reset_index(drop=True)\n",
    "\n",
    "    return joined_df.mean(skipna=True)"
   ]
  },
  {
   "cell_type": "code",
   "execution_count": 155,
   "outputs": [],
   "source": [
    "train_date = '2019-01-01 00:00:00'\n",
    "valid_date = '2020-01-01 00:00:00'\n",
    "test_date = '2021-01-01 00:00:00'"
   ],
   "metadata": {
    "collapsed": false,
    "pycharm": {
     "name": "#%%\n"
    }
   }
  },
  {
   "cell_type": "code",
   "execution_count": 156,
   "outputs": [
    {
     "data": {
      "text/plain": "((6383, 75), (422, 75), (80, 75))"
     },
     "execution_count": 156,
     "metadata": {},
     "output_type": "execute_result"
    }
   ],
   "source": [
    "dates = [valid_date, test_date]\n",
    "train_df_stats = df_stats[df_stats['eventDate_date'] < valid_date]\n",
    "valid_df_stats = df_stats[(df_stats['eventDate_date'] >= valid_date) & (df_stats['eventDate_date'] < test_date)]\n",
    "test_df_stats = df_stats[df_stats['eventDate_date'] >= test_date]\n",
    "\n",
    "train_df_stats.shape, valid_df_stats.shape, test_df_stats.shape"
   ],
   "metadata": {
    "collapsed": false,
    "pycharm": {
     "name": "#%%\n"
    }
   }
  },
  {
   "cell_type": "code",
   "execution_count": 157,
   "outputs": [],
   "source": [
    "train_df = train_df_stats.copy()\n",
    "list_to_calc = [\n",
    "    'fighter1_fightsAmount', 'fighter2_fightsAmount', 'fighter1_winDEC', 'fighter2_winDEC',\n",
    "    'fighter1_winDQ', 'fighter2_winDQ', 'fighter1_winKO', 'fighter1_winKO',\n",
    "    'fighter1_winNC', 'fighter2_winNC', 'fighter1_winSUB', 'fighter1_winSUB'\n",
    "]\n",
    "train_df[list_to_calc] = 0"
   ],
   "metadata": {
    "collapsed": false,
    "pycharm": {
     "name": "#%%\n"
    }
   }
  },
  {
   "cell_type": "code",
   "execution_count": 158,
   "outputs": [],
   "source": [
    "def cumulative_sum(df, fighterId, vector=False):\n",
    "    \"\"\"\n",
    "    функция расчета суммы боев и выигрышей конкретным методом\n",
    "    :param df: датасет\n",
    "    :param fighterId: код бойца\n",
    "    :param vector: вектор признака, если не указан - считаем количество боев\n",
    "    :return: сумма по выбранному вектору или сумма боев\n",
    "    \"\"\"\n",
    "\n",
    "    if not vector:\n",
    "        result = (df['fighterId_1'] == fighterId | (df['fighterId_2'] == fighterId)).sum(skipna=True)\n",
    "\n",
    "    else:\n",
    "        result = (((df['fighterId_1'] == fighterId) & (df[vector] == 1) & (df['winner'] == True)) |\n",
    "                  ((df['fighterId_2'] == fighterId) & (df[vector] == 1) & (df['winner'] == False))).sum(skipna=True)\n",
    "\n",
    "    if not result:\n",
    "        result = 0\n",
    "\n",
    "    return result"
   ],
   "metadata": {
    "collapsed": false,
    "pycharm": {
     "name": "#%%\n"
    }
   }
  },
  {
   "cell_type": "code",
   "execution_count": 159,
   "outputs": [],
   "source": [
    "#train_df.iloc[10]\n",
    "#fighterId_1, fighterId_2, max_date = train_df.loc[0, ['fighterId_1', 'fighterId_2', 'eventDate_date']]\n",
    "#print(fighterId_1, fighterId_2, max_date)\n",
    "\n",
    "#temp_df = df_stats[df_stats.eventDate_date < max_date].copy()\n",
    "#temp_df\n",
    "#fighter1_history_stats = get_figher_statistics_from_past(temp_df, fighterId_1)\n",
    "#train_df.loc[0, fighter1_cols] = fighter1_history_stats.values\n",
    "\n",
    "#temp_df"
   ],
   "metadata": {
    "collapsed": false,
    "pycharm": {
     "name": "#%%\n"
    }
   }
  },
  {
   "cell_type": "code",
   "execution_count": 161,
   "outputs": [
    {
     "name": "stderr",
     "output_type": "stream",
     "text": [
      "100%|██████████| 6383/6383 [19:35<00:00,  5.43it/s]\n"
     ]
    }
   ],
   "source": [
    "for i in tqdm(train_df_stats.index):\n",
    "\n",
    "    fighterId_1, fighterId_2, max_date, item = train_df.loc[i, ['fighterId_1', 'fighterId_2', 'eventDate_date', 'id']]\n",
    "\n",
    "    if max_date == df_stats.eventDate_date.min():\n",
    "        continue\n",
    "\n",
    "    temp_df = df_stats[df_stats.eventDate_date < max_date].copy()\n",
    "\n",
    "    # строчка для обновления даты перед каждым файтом\n",
    "    fighter1_history_stats = get_fighter_statistics_from_past(train_df, fighterId_1, max_date, item)\n",
    "    train_df.loc[i, fighter1_cols] = fighter1_history_stats.values\n",
    "\n",
    "    fighter2_history_stats = get_fighter_statistics_from_past(train_df, fighterId_2, max_date, item)\n",
    "    train_df.loc[i, fighter2_cols] = fighter2_history_stats.values\n",
    "\n",
    "    fighter1_fightsAmount = cumulative_sum(temp_df, fighterId_1)\n",
    "    fighter2_fightsAmount = cumulative_sum(temp_df, fighterId_2)\n",
    "\n",
    "    # подсчет типов побед Dec по каждому бойцу\n",
    "    fighter1_winDEC = cumulative_sum(temp_df, fighterId_1, 'winMethods_DEC')\n",
    "    fighter2_winDEC = cumulative_sum(temp_df, fighterId_2, 'winMethods_DEC')\n",
    "\n",
    "    fighter1_winDQ = cumulative_sum(temp_df, fighterId_1, 'winMethods_DQ')\n",
    "    fighter2_winDQ = cumulative_sum(temp_df, fighterId_2, 'winMethods_DQ')\n",
    "\n",
    "    fighter1_winKO = cumulative_sum(temp_df, fighterId_1, 'winMethods_KO')\n",
    "    fighter2_winKO = cumulative_sum(temp_df, fighterId_2, 'winMethods_KO')\n",
    "\n",
    "    fighter1_winNC = cumulative_sum(temp_df, fighterId_1, 'winMethods_NC')\n",
    "    fighter2_winNC = cumulative_sum(temp_df, fighterId_2, 'winMethods_NC')\n",
    "\n",
    "    fighter1_winSUB = cumulative_sum(temp_df, fighterId_1, 'winMethods_SUB')\n",
    "    fighter2_winSUB = cumulative_sum(temp_df, fighterId_2, 'winMethods_SUB')\n",
    "\n",
    "    # внесение данных в дата сет\n",
    "    train_df.loc[i, ['fighter1_fightsAmount', 'fighter2_fightsAmount']] = fighter1_fightsAmount, fighter2_fightsAmount\n",
    "    train_df.loc[i, ['fighter1_winDEC', 'fighter2_winDEC']] = fighter1_winDEC, fighter2_winDEC\n",
    "    train_df.loc[i, ['fighter1_winDQ', 'fighter2_winDQ']] = fighter1_winDQ, fighter2_winDQ\n",
    "#    train_df.loc[i, ['fighter1_winKO', 'fighter2_winKO']] = fighter1_winKO, fighter2_winKO\n",
    "    train_df.loc[i, ['fighter1_winNC', 'fighter2_winNC']] = fighter1_winNC, fighter2_winNC\n",
    "#    train_df.loc[i, ['fighter1_winSUB', 'fighter2_winSUB']] = fighter1_winSUB, fighter2_winSUB"
   ],
   "metadata": {
    "collapsed": false,
    "pycharm": {
     "name": "#%%\n"
    }
   }
  },
  {
   "cell_type": "code",
   "execution_count": 164,
   "outputs": [
    {
     "name": "stderr",
     "output_type": "stream",
     "text": [
      "100%|██████████| 422/422 [01:21<00:00,  5.20it/s]\n"
     ]
    }
   ],
   "source": [
    "valid_df = valid_df_stats.copy()\n",
    "list_to_calc = [\n",
    "    'fighter1_fightsAmount', 'fighter2_fightsAmount', 'fighter1_winDEC', 'fighter2_winDEC',\n",
    "    'fighter1_winDQ', 'fighter2_winDQ', 'fighter1_winKO', 'fighter1_winKO',\n",
    "    'fighter1_winNC', 'fighter2_winNC', 'fighter1_winSUB', 'fighter1_winSUB'\n",
    "]\n",
    "valid_df[list_to_calc] = 0\n",
    "\n",
    "for i in tqdm(valid_df_stats.index):\n",
    "\n",
    "    fighterId_1, fighterId_2, max_date, item = valid_df.loc[i, ['fighterId_1', 'fighterId_2', 'eventDate_date', 'id']]\n",
    "\n",
    "    if max_date == df_stats.eventDate_date.min():\n",
    "        continue\n",
    "\n",
    "    temp_df = df_stats[df_stats.eventDate_date < max_date].copy()\n",
    "\n",
    "    # строчка для обновления даты перед каждым файтом\n",
    "    fighter1_history_stats = get_fighter_statistics_from_past(df_stats, fighterId_1, max_date, item)\n",
    "    train_df.loc[i, fighter1_cols] = fighter1_history_stats.values\n",
    "\n",
    "    fighter2_history_stats = get_fighter_statistics_from_past(df_stats, fighterId_2, max_date, item)\n",
    "    train_df.loc[i, fighter2_cols] = fighter2_history_stats.values\n",
    "\n",
    "    fighter1_fightsAmount = cumulative_sum(temp_df, fighterId_1)\n",
    "    fighter2_fightsAmount = cumulative_sum(temp_df, fighterId_2)\n",
    "\n",
    "    # подсчет типов побед Dec по каждому бойцу\n",
    "    fighter1_winDEC = cumulative_sum(temp_df, fighterId_1, 'winMethods_DEC')\n",
    "    fighter2_winDEC = cumulative_sum(temp_df, fighterId_2, 'winMethods_DEC')\n",
    "\n",
    "    fighter1_winDQ = cumulative_sum(temp_df, fighterId_1, 'winMethods_DQ')\n",
    "    fighter2_winDQ = cumulative_sum(temp_df, fighterId_2, 'winMethods_DQ')\n",
    "\n",
    "    fighter1_winKO = cumulative_sum(temp_df, fighterId_1, 'winMethods_KO')\n",
    "    fighter2_winKO = cumulative_sum(temp_df, fighterId_2, 'winMethods_KO')\n",
    "\n",
    "    fighter1_winNC = cumulative_sum(temp_df, fighterId_1, 'winMethods_NC')\n",
    "    fighter2_winNC = cumulative_sum(temp_df, fighterId_2, 'winMethods_NC')\n",
    "\n",
    "    fighter1_winSUB = cumulative_sum(temp_df, fighterId_1, 'winMethods_SUB')\n",
    "    fighter2_winSUB = cumulative_sum(temp_df, fighterId_2, 'winMethods_SUB')\n",
    "\n",
    "    # внесение данных в дата сет\n",
    "    valid_df.loc[i, ['fighter1_fightsAmount', 'fighter2_fightsAmount']] = fighter1_fightsAmount, fighter2_fightsAmount\n",
    "    valid_df.loc[i, ['fighter1_winDEC', 'fighter2_winDEC']] = fighter1_winDEC, fighter2_winDEC\n",
    "    valid_df.loc[i, ['fighter1_winDQ', 'fighter2_winDQ']] = fighter1_winDQ, fighter2_winDQ\n",
    "#    valid_df.loc[i, ['fighter1_winKO', 'fighter2_winKO']] = fighter1_winKO, fighter2_winKO\n",
    "    valid_df.loc[i, ['fighter1_winNC', 'fighter2_winNC']] = fighter1_winNC, fighter2_winNC\n",
    "#    valid_df.loc[i, ['fighter1_winSUB', 'fighter2_winSUB']] = fighter1_winSUB, fighter2_winSUB"
   ],
   "metadata": {
    "collapsed": false,
    "pycharm": {
     "name": "#%%\n"
    }
   }
  },
  {
   "cell_type": "code",
   "execution_count": 168,
   "metadata": {
    "pycharm": {
     "name": "#%%\n"
    }
   },
   "outputs": [
    {
     "data": {
      "text/plain": "     hitsPM_fighter1 accentedHitsPM_fighter1 takedownsPM_fighter1  \\\n6420            46.0                    46.0                  0.0   \n6421            15.2                     7.8                  1.6   \n6422       12.071006                4.260355             0.710059   \n6423            20.2                    17.6                  0.0   \n6424            30.4                    29.0                  1.4   \n...              ...                     ...                  ...   \n6990            26.6                    16.4                  0.6   \n6991            18.8                    15.8                  0.4   \n6992            17.8                     7.6                  3.2   \n6993            37.4                    28.6                  0.4   \n6994            20.4                    15.6                  1.0   \n\n     accentedHitsDistancePM_fighter1 accentedHitsClinchPM_fighter1  \\\n6420                            45.0                           1.0   \n6421                             6.8                           1.0   \n6422                        1.775148                           0.0   \n6423                            16.2                           1.4   \n6424                            28.0                           0.8   \n...                              ...                           ...   \n6990                            13.8                           2.6   \n6991                            13.4                           2.0   \n6992                             7.0                           0.4   \n6993                            22.8                           5.6   \n6994                            14.0                           0.2   \n\n     accentedHitsParterPM_fighter1 hitsSuccessfulPM_fighter1  \\\n6420                           0.0                      15.0   \n6421                           0.0                      10.2   \n6422                      2.485207                  9.940828   \n6423                           0.0                       8.8   \n6424                           0.2                      11.2   \n...                            ...                       ...   \n6990                           0.0                      18.4   \n6991                           0.4                      11.2   \n6992                           0.2                      12.8   \n6993                           0.2                      26.4   \n6994                           1.4                      10.0   \n\n     takedownsSuccessfulPM_fighter1 accentedHitsDistanceSuccessfulPM_fighter1  \\\n6420                            0.0                                      14.2   \n6421                            0.6                                       3.6   \n6422                        0.35503                                  1.065089   \n6423                            0.0                                       5.2   \n6424                            0.6                                       9.2   \n...                             ...                                       ...   \n6990                            0.0                                       6.8   \n6991                            0.4                                       6.6   \n6992                            2.4                                       3.6   \n6993                            0.0                                      13.0   \n6994                            0.2                                       5.2   \n\n     accentedHitsClinchSuccessfulPM_fighter1  \\\n6420                                     0.8   \n6421                                     0.4   \n6422                                     0.0   \n6423                                     1.0   \n6424                                     0.6   \n...                                      ...   \n6990                                     2.4   \n6991                                     1.8   \n6992                                     0.4   \n6993                                     5.2   \n6994                                     0.0   \n\n     accentedHitsParterSuccessfulPM_fighter1 hitsSuccessful_percent_fighter1  \\\n6420                                     0.0                        0.326087   \n6421                                     0.0                        0.671053   \n6422                                1.420118                        0.823529   \n6423                                     0.0                        0.435644   \n6424                                     0.0                        0.368421   \n...                                      ...                             ...   \n6990                                     0.0                        0.691729   \n6991                                     0.4                        0.595745   \n6992                                     0.0                        0.719101   \n6993                                     0.2                        0.705882   \n6994                                     1.0                        0.490196   \n\n     accentedHitsSuccessful_percent_fighter1 accentedHits_percent_fighter1  \\\n6420                                0.326087                           1.0   \n6421                                0.263158                      0.513158   \n6422                                0.205882                      0.352941   \n6423                                0.306931                      0.871287   \n6424                                0.322368                      0.953947   \n...                                      ...                           ...   \n6990                                0.345865                      0.616541   \n6991                                0.468085                      0.840426   \n6992                                0.224719                      0.426966   \n6993                                0.491979                      0.764706   \n6994                                0.303922                      0.764706   \n\n     takedownSuccessful_percent_fighter1  \\\n6420                                 NaN   \n6421                               0.375   \n6422                                 0.5   \n6423                                 NaN   \n6424                            0.428571   \n...                                  ...   \n6990                                 0.0   \n6991                                 1.0   \n6992                                0.75   \n6993                                 0.0   \n6994                                 0.2   \n\n     accentedHitsPositionDistanceSuccessful_prcent_fighter1  \\\n6420                                           3.169014       \n6421                                           1.888889       \n6422                                           1.666667       \n6423                                           3.115385       \n6424                                           3.043478       \n...                                                 ...       \n6990                                           2.029412       \n6991                                           2.030303       \n6992                                           1.944444       \n6993                                           1.753846       \n6994                                           2.692308       \n\n     accentedHitsPositionClinchSuccessful_percent_fighter1  \\\n6420                                               1.25      \n6421                                                2.5      \n6422                                                NaN      \n6423                                                1.4      \n6424                                           1.333333      \n...                                                 ...      \n6990                                           1.083333      \n6991                                           1.111111      \n6992                                                1.0      \n6993                                           1.076923      \n6994                                                NaN      \n\n     accentedHitsPositionParterSuccessful_percent_fighter1  \\\n6420                                                NaN      \n6421                                                NaN      \n6422                                               1.75      \n6423                                                NaN      \n6424                                                NaN      \n...                                                 ...      \n6990                                                NaN      \n6991                                                1.0      \n6992                                                NaN      \n6993                                                1.0      \n6994                                                1.4      \n\n     takedowns_to_hits_fighter1 HitsPositionDistance_to_hits_fighter1  \\\n6420                        0.0                              0.946667   \n6421                   0.058824                              0.352941   \n6422                   0.035714                              0.107143   \n6423                        0.0                              0.590909   \n6424                   0.053571                              0.821429   \n...                         ...                                   ...   \n6990                        0.0                              0.369565   \n6991                   0.035714                              0.589286   \n6992                     0.1875                               0.28125   \n6993                        0.0                              0.492424   \n6994                       0.02                                  0.52   \n\n     HitsPositionClinch_to_hits_fighter1 HitsPositionParter_to_hits_fighter1  \\\n6420                            0.053333                                 0.0   \n6421                            0.039216                                 0.0   \n6422                                 0.0                            0.142857   \n6423                            0.113636                                 0.0   \n6424                            0.053571                                 0.0   \n...                                  ...                                 ...   \n6990                            0.130435                                 0.0   \n6991                            0.160714                            0.035714   \n6992                             0.03125                                 0.0   \n6993                             0.19697                            0.007576   \n6994                                 0.0                                 0.1   \n\n     sigStrikesAccuracy_fighter1 significantStrikesLandPerMinute_fighter1  \\\n6420                    0.326087                                     15.0   \n6421                    0.512821                                      4.0   \n6422                    0.583333                                 2.485207   \n6423                    0.352273                                      6.2   \n6424                    0.337931                                      9.8   \n...                          ...                                      ...   \n6990                    0.560976                                      9.2   \n6991                    0.556962                                      8.8   \n6992                    0.526316                                      4.0   \n6993                    0.643357                                     18.4   \n6994                    0.397436                                      6.2   \n\n     takedownsAccuracy_fighter1 takedownsPer15min_fighter1 hitsPM_fighter2  \\\n6420                        NaN                        0.0            21.2   \n6421                      0.375                        9.0            18.0   \n6422                        0.5                   5.325444         8.87574   \n6423                        NaN                        0.0            23.2   \n6424                   0.428571                        9.0            35.4   \n...                         ...                        ...             ...   \n6990                        0.0                        0.0            17.2   \n6991                        1.0                        6.0            26.8   \n6992                       0.75                       36.0            17.4   \n6993                        0.0                        0.0            26.2   \n6994                        0.2                        3.0            23.0   \n\n     accentedHitsPM_fighter2 takedownsPM_fighter2  \\\n6420                    20.0                  0.0   \n6421                    14.0                  0.6   \n6422                4.970414                  0.0   \n6423                    22.8                  0.2   \n6424                    31.0                  0.0   \n...                      ...                  ...   \n6990                    14.0                  0.4   \n6991                    25.4                  0.0   \n6992                    12.4                  0.0   \n6993                    20.8                  0.8   \n6994                    16.0                  0.2   \n\n     accentedHitsDistancePM_fighter2 accentedHitsClinchPM_fighter2  \\\n6420                            19.0                           1.0   \n6421                            10.0                           1.2   \n6422                        2.840237                       0.35503   \n6423                            18.8                           4.0   \n6424                            24.0                           1.0   \n...                              ...                           ...   \n6990                            12.4                           1.6   \n6991                            22.8                           2.6   \n6992                            12.0                           0.0   \n6993                            18.0                           1.4   \n6994                            15.0                           0.6   \n\n     accentedHitsParterPM_fighter2 hitsSuccessfulPM_fighter2  \\\n6420                           0.0                       9.2   \n6421                           2.8                      11.4   \n6422                      1.775148                  6.745562   \n6423                           0.0                      11.6   \n6424                           6.0                      18.0   \n...                            ...                       ...   \n6990                           0.0                      12.0   \n6991                           0.0                      12.4   \n6992                           0.4                      14.0   \n6993                           1.4                      14.0   \n6994                           0.4                      16.0   \n\n     takedownsSuccessfulPM_fighter2 accentedHitsDistanceSuccessfulPM_fighter2  \\\n6420                            0.0                                       7.6   \n6421                            0.0                                       4.8   \n6422                            0.0                                  1.065089   \n6423                            0.0                                       8.4   \n6424                            0.0                                      10.0   \n...                             ...                                       ...   \n6990                            0.0                                       7.2   \n6991                            0.0                                       9.6   \n6992                            0.0                                       8.6   \n6993                            0.4                                       7.6   \n6994                            0.0                                       9.6   \n\n     accentedHitsClinchSuccessfulPM_fighter2  \\\n6420                                     0.6   \n6421                                     1.0   \n6422                                 0.35503   \n6423                                     2.8   \n6424                                     0.6   \n...                                      ...   \n6990                                     1.6   \n6991                                     1.4   \n6992                                     0.0   \n6993                                     0.8   \n6994                                     0.2   \n\n     accentedHitsParterSuccessfulPM_fighter2 hitsSuccessful_percent_fighter2  \\\n6420                                     0.0                        0.433962   \n6421                                     1.6                        0.633333   \n6422                                1.775148                            0.76   \n6423                                     0.0                             0.5   \n6424                                     4.0                        0.508475   \n...                                      ...                             ...   \n6990                                     0.0                        0.697674   \n6991                                     0.0                        0.462687   \n6992                                     0.4                        0.804598   \n6993                                     1.4                        0.534351   \n6994                                     0.2                        0.695652   \n\n     accentedHitsSuccessful_percent_fighter2 accentedHits_percent_fighter2  \\\n6420                                0.386792                      0.943396   \n6421                                0.411111                      0.777778   \n6422                                    0.36                          0.56   \n6423                                0.482759                      0.982759   \n6424                                0.412429                      0.875706   \n...                                      ...                           ...   \n6990                                0.511628                      0.813953   \n6991                                0.410448                      0.947761   \n6992                                0.517241                      0.712644   \n6993                                0.374046                      0.793893   \n6994                                0.434783                      0.695652   \n\n     takedownSuccessful_percent_fighter2  \\\n6420                                 NaN   \n6421                                 0.0   \n6422                                 NaN   \n6423                                 0.0   \n6424                                 NaN   \n...                                  ...   \n6990                                 0.0   \n6991                                 NaN   \n6992                                 NaN   \n6993                                 0.5   \n6994                                 0.0   \n\n     accentedHitsPositionDistanceSuccessful_prcent_fighter2  \\\n6420                                                2.5       \n6421                                           2.083333       \n6422                                           2.666667       \n6423                                           2.238095       \n6424                                                2.4       \n...                                                 ...       \n6990                                           1.722222       \n6991                                              2.375       \n6992                                           1.395349       \n6993                                           2.368421       \n6994                                             1.5625       \n\n     accentedHitsPositionClinchSuccessful_percent_fighter2  \\\n6420                                           1.666667      \n6421                                                1.2      \n6422                                                1.0      \n6423                                           1.428571      \n6424                                           1.666667      \n...                                                 ...      \n6990                                                1.0      \n6991                                           1.857143      \n6992                                                NaN      \n6993                                               1.75      \n6994                                                3.0      \n\n     accentedHitsPositionParterSuccessful_percent_fighter2  \\\n6420                                                NaN      \n6421                                               1.75      \n6422                                                1.0      \n6423                                                NaN      \n6424                                                1.5      \n...                                                 ...      \n6990                                                NaN      \n6991                                                NaN      \n6992                                                1.0      \n6993                                                1.0      \n6994                                                2.0      \n\n     takedowns_to_hits_fighter2 HitsPositionDistance_to_hits_fighter2  \\\n6420                        0.0                              0.826087   \n6421                        0.0                              0.421053   \n6422                        0.0                              0.157895   \n6423                        0.0                              0.724138   \n6424                        0.0                              0.555556   \n...                         ...                                   ...   \n6990                        0.0                                   0.6   \n6991                        0.0                              0.774194   \n6992                        0.0                              0.614286   \n6993                   0.028571                              0.542857   \n6994                        0.0                                   0.6   \n\n     HitsPositionClinch_to_hits_fighter2 HitsPositionParter_to_hits_fighter2  \\\n6420                            0.065217                                 0.0   \n6421                            0.087719                            0.140351   \n6422                            0.052632                            0.263158   \n6423                            0.241379                                 0.0   \n6424                            0.033333                            0.222222   \n...                                  ...                                 ...   \n6990                            0.133333                                 0.0   \n6991                            0.112903                                 0.0   \n6992                                 0.0                            0.028571   \n6993                            0.057143                                 0.1   \n6994                              0.0125                              0.0125   \n\n     sigStrikesAccuracy_fighter2 significantStrikesLandPerMinute_fighter2  \\\n6420                        0.41                                      8.2   \n6421                    0.528571                                      7.4   \n6422                    0.642857                                 3.195266   \n6423                    0.491228                                     11.2   \n6424                    0.470968                                     14.6   \n...                          ...                                      ...   \n6990                    0.628571                                      8.8   \n6991                    0.433071                                     11.0   \n6992                    0.725806                                      9.0   \n6993                    0.471154                                      9.8   \n6994                       0.625                                     10.0   \n\n     takedownsAccuracy_fighter2 takedownsPer15min_fighter2     id       city  \\\n6420                        NaN                        0.0  39823  Las Vegas   \n6421                        0.0                        0.0  39825  Las Vegas   \n6422                        NaN                        0.0  39826  Las Vegas   \n6423                        0.0                        0.0  39827  Las Vegas   \n6424                        NaN                        0.0  39807  Las Vegas   \n...                         ...                        ...    ...        ...   \n6990                        0.0                        0.0  40351  Las Vegas   \n6991                        NaN                        0.0  40352  Las Vegas   \n6992                        NaN                        0.0  40354  Las Vegas   \n6993                        0.5                        6.0  40356  Las Vegas   \n6994                        0.0                        0.0  40383  Las Vegas   \n\n      completed country  duration eventDate_date  fighterId_1  fighterId_2  \\\n6420       True     USA     300.0     2020-01-18          208          272   \n6421       True     USA     300.0     2020-01-18          619         1932   \n6422       True     USA     169.0     2020-01-18          550         2905   \n6423       True     USA     300.0     2020-01-18          544         2121   \n6424       True     USA     300.0     2020-01-18          407          521   \n...         ...     ...       ...            ...          ...          ...   \n6990       True     USA     300.0     2020-12-19           68          571   \n6991       True     USA     300.0     2020-12-19          286         3419   \n6992       True     USA     300.0     2020-12-19          653         1995   \n6993       True     USA     300.0     2020-12-19          161          667   \n6994       True     USA     300.0     2020-12-19          244          292   \n\n                 name  rounds             timezone    weightCategory_name  \\\n6420          UFC 246     3.0  America/Los_Angeles          Не определена   \n6421          UFC 246     3.0  America/Los_Angeles          Не определена   \n6422          UFC 246     1.0  America/Los_Angeles          Не определена   \n6423          UFC 246     3.0  America/Los_Angeles          Не определена   \n6424          UFC 246     3.0  America/Los_Angeles          Не определена   \n...               ...     ...                  ...                    ...   \n6990  UFC Fight Night     3.0  America/Los_Angeles          Легчайший вес   \n6991  UFC Fight Night     3.0  America/Los_Angeles        Полусредний вес   \n6992  UFC Fight Night     3.0  America/Los_Angeles            Средний вес   \n6993  UFC Fight Night     3.0  America/Los_Angeles  Женский легчайший вес   \n6994  UFC Fight Night     3.0  America/Los_Angeles        Полусредний вес   \n\n     winMethods  winnerId  odd1  odd2  winner  winMethods_DEC  winMethods_DQ  \\\n6420                208.0  1.93  1.89    True               1              0   \n6421               1932.0  2.19  1.70   False               1              0   \n6422                550.0  2.13  1.73    True               0              0   \n6423               2121.0  2.06  1.78   False               1              0   \n6424                521.0  2.17  1.70   False               1              0   \n...         ...       ...   ...   ...     ...             ...            ...   \n6990                571.0  2.32  1.65   False               1              0   \n6991                286.0  1.83  2.06    True               1              0   \n6992                653.0  2.41  1.61    True               1              0   \n6993                161.0  2.36  1.64    True               1              0   \n6994                292.0  2.89  1.44   False               1              0   \n\n      winMethods_KO  winMethods_NC  winMethods_SUB  winMethods_  \\\n6420              0              0               0            1   \n6421              0              0               0            1   \n6422              0              0               1            1   \n6423              0              0               0            1   \n6424              0              0               0            1   \n...             ...            ...             ...          ...   \n6990              0              0               0            1   \n6991              0              0               0            1   \n6992              0              0               0            1   \n6993              0              0               0            1   \n6994              0              0               0            1   \n\n      fighter1_fightsAmount  fighter2_fightsAmount  fighter1_winDEC  \\\n6420                      0                      0                1   \n6421                      0                      0                3   \n6422                      0                      0                1   \n6423                      0                      0                2   \n6424                      0                      0                5   \n...                     ...                    ...              ...   \n6990                      3                      3                1   \n6991                      3                      3                0   \n6992                      3                      3                1   \n6993                      3                      3                1   \n6994                      3                      3                5   \n\n      fighter2_winDEC  fighter1_winDQ  fighter2_winDQ  fighter1_winKO  \\\n6420                4               0               0               0   \n6421                1               0               0               0   \n6422                0               0               0               0   \n6423                0               0               0               0   \n6424                1               0               0               0   \n...               ...             ...             ...             ...   \n6990                6               0               0               0   \n6991                0               0               0               0   \n6992                0               0               0               0   \n6993                4               0               0               0   \n6994                3               0               0               0   \n\n      fighter1_winKO  fighter1_winNC  fighter2_winNC  fighter1_winSUB  \\\n6420               0               0               0                0   \n6421               0               0               0                0   \n6422               0               0               0                0   \n6423               0               0               0                0   \n6424               0               0               0                0   \n...              ...             ...             ...              ...   \n6990               0               0               0                0   \n6991               0               0               0                0   \n6992               0               0               0                0   \n6993               0               0               0                0   \n6994               0               0               0                0   \n\n      fighter1_winSUB  \n6420                0  \n6421                0  \n6422                0  \n6423                0  \n6424                0  \n...               ...  \n6990                0  \n6991                0  \n6992                0  \n6993                0  \n6994                0  \n\n[422 rows x 87 columns]",
      "text/html": "<div>\n<style scoped>\n    .dataframe tbody tr th:only-of-type {\n        vertical-align: middle;\n    }\n\n    .dataframe tbody tr th {\n        vertical-align: top;\n    }\n\n    .dataframe thead th {\n        text-align: right;\n    }\n</style>\n<table border=\"1\" class=\"dataframe\">\n  <thead>\n    <tr style=\"text-align: right;\">\n      <th></th>\n      <th>hitsPM_fighter1</th>\n      <th>accentedHitsPM_fighter1</th>\n      <th>takedownsPM_fighter1</th>\n      <th>accentedHitsDistancePM_fighter1</th>\n      <th>accentedHitsClinchPM_fighter1</th>\n      <th>accentedHitsParterPM_fighter1</th>\n      <th>hitsSuccessfulPM_fighter1</th>\n      <th>takedownsSuccessfulPM_fighter1</th>\n      <th>accentedHitsDistanceSuccessfulPM_fighter1</th>\n      <th>accentedHitsClinchSuccessfulPM_fighter1</th>\n      <th>accentedHitsParterSuccessfulPM_fighter1</th>\n      <th>hitsSuccessful_percent_fighter1</th>\n      <th>accentedHitsSuccessful_percent_fighter1</th>\n      <th>accentedHits_percent_fighter1</th>\n      <th>takedownSuccessful_percent_fighter1</th>\n      <th>accentedHitsPositionDistanceSuccessful_prcent_fighter1</th>\n      <th>accentedHitsPositionClinchSuccessful_percent_fighter1</th>\n      <th>accentedHitsPositionParterSuccessful_percent_fighter1</th>\n      <th>takedowns_to_hits_fighter1</th>\n      <th>HitsPositionDistance_to_hits_fighter1</th>\n      <th>HitsPositionClinch_to_hits_fighter1</th>\n      <th>HitsPositionParter_to_hits_fighter1</th>\n      <th>sigStrikesAccuracy_fighter1</th>\n      <th>significantStrikesLandPerMinute_fighter1</th>\n      <th>takedownsAccuracy_fighter1</th>\n      <th>takedownsPer15min_fighter1</th>\n      <th>hitsPM_fighter2</th>\n      <th>accentedHitsPM_fighter2</th>\n      <th>takedownsPM_fighter2</th>\n      <th>accentedHitsDistancePM_fighter2</th>\n      <th>accentedHitsClinchPM_fighter2</th>\n      <th>accentedHitsParterPM_fighter2</th>\n      <th>hitsSuccessfulPM_fighter2</th>\n      <th>takedownsSuccessfulPM_fighter2</th>\n      <th>accentedHitsDistanceSuccessfulPM_fighter2</th>\n      <th>accentedHitsClinchSuccessfulPM_fighter2</th>\n      <th>accentedHitsParterSuccessfulPM_fighter2</th>\n      <th>hitsSuccessful_percent_fighter2</th>\n      <th>accentedHitsSuccessful_percent_fighter2</th>\n      <th>accentedHits_percent_fighter2</th>\n      <th>takedownSuccessful_percent_fighter2</th>\n      <th>accentedHitsPositionDistanceSuccessful_prcent_fighter2</th>\n      <th>accentedHitsPositionClinchSuccessful_percent_fighter2</th>\n      <th>accentedHitsPositionParterSuccessful_percent_fighter2</th>\n      <th>takedowns_to_hits_fighter2</th>\n      <th>HitsPositionDistance_to_hits_fighter2</th>\n      <th>HitsPositionClinch_to_hits_fighter2</th>\n      <th>HitsPositionParter_to_hits_fighter2</th>\n      <th>sigStrikesAccuracy_fighter2</th>\n      <th>significantStrikesLandPerMinute_fighter2</th>\n      <th>takedownsAccuracy_fighter2</th>\n      <th>takedownsPer15min_fighter2</th>\n      <th>id</th>\n      <th>city</th>\n      <th>completed</th>\n      <th>country</th>\n      <th>duration</th>\n      <th>eventDate_date</th>\n      <th>fighterId_1</th>\n      <th>fighterId_2</th>\n      <th>name</th>\n      <th>rounds</th>\n      <th>timezone</th>\n      <th>weightCategory_name</th>\n      <th>winMethods</th>\n      <th>winnerId</th>\n      <th>odd1</th>\n      <th>odd2</th>\n      <th>winner</th>\n      <th>winMethods_DEC</th>\n      <th>winMethods_DQ</th>\n      <th>winMethods_KO</th>\n      <th>winMethods_NC</th>\n      <th>winMethods_SUB</th>\n      <th>winMethods_</th>\n      <th>fighter1_fightsAmount</th>\n      <th>fighter2_fightsAmount</th>\n      <th>fighter1_winDEC</th>\n      <th>fighter2_winDEC</th>\n      <th>fighter1_winDQ</th>\n      <th>fighter2_winDQ</th>\n      <th>fighter1_winKO</th>\n      <th>fighter1_winKO</th>\n      <th>fighter1_winNC</th>\n      <th>fighter2_winNC</th>\n      <th>fighter1_winSUB</th>\n      <th>fighter1_winSUB</th>\n    </tr>\n  </thead>\n  <tbody>\n    <tr>\n      <th>6420</th>\n      <td>46.0</td>\n      <td>46.0</td>\n      <td>0.0</td>\n      <td>45.0</td>\n      <td>1.0</td>\n      <td>0.0</td>\n      <td>15.0</td>\n      <td>0.0</td>\n      <td>14.2</td>\n      <td>0.8</td>\n      <td>0.0</td>\n      <td>0.326087</td>\n      <td>0.326087</td>\n      <td>1.0</td>\n      <td>NaN</td>\n      <td>3.169014</td>\n      <td>1.25</td>\n      <td>NaN</td>\n      <td>0.0</td>\n      <td>0.946667</td>\n      <td>0.053333</td>\n      <td>0.0</td>\n      <td>0.326087</td>\n      <td>15.0</td>\n      <td>NaN</td>\n      <td>0.0</td>\n      <td>21.2</td>\n      <td>20.0</td>\n      <td>0.0</td>\n      <td>19.0</td>\n      <td>1.0</td>\n      <td>0.0</td>\n      <td>9.2</td>\n      <td>0.0</td>\n      <td>7.6</td>\n      <td>0.6</td>\n      <td>0.0</td>\n      <td>0.433962</td>\n      <td>0.386792</td>\n      <td>0.943396</td>\n      <td>NaN</td>\n      <td>2.5</td>\n      <td>1.666667</td>\n      <td>NaN</td>\n      <td>0.0</td>\n      <td>0.826087</td>\n      <td>0.065217</td>\n      <td>0.0</td>\n      <td>0.41</td>\n      <td>8.2</td>\n      <td>NaN</td>\n      <td>0.0</td>\n      <td>39823</td>\n      <td>Las Vegas</td>\n      <td>True</td>\n      <td>USA</td>\n      <td>300.0</td>\n      <td>2020-01-18</td>\n      <td>208</td>\n      <td>272</td>\n      <td>UFC 246</td>\n      <td>3.0</td>\n      <td>America/Los_Angeles</td>\n      <td>Не определена</td>\n      <td></td>\n      <td>208.0</td>\n      <td>1.93</td>\n      <td>1.89</td>\n      <td>True</td>\n      <td>1</td>\n      <td>0</td>\n      <td>0</td>\n      <td>0</td>\n      <td>0</td>\n      <td>1</td>\n      <td>0</td>\n      <td>0</td>\n      <td>1</td>\n      <td>4</td>\n      <td>0</td>\n      <td>0</td>\n      <td>0</td>\n      <td>0</td>\n      <td>0</td>\n      <td>0</td>\n      <td>0</td>\n      <td>0</td>\n    </tr>\n    <tr>\n      <th>6421</th>\n      <td>15.2</td>\n      <td>7.8</td>\n      <td>1.6</td>\n      <td>6.8</td>\n      <td>1.0</td>\n      <td>0.0</td>\n      <td>10.2</td>\n      <td>0.6</td>\n      <td>3.6</td>\n      <td>0.4</td>\n      <td>0.0</td>\n      <td>0.671053</td>\n      <td>0.263158</td>\n      <td>0.513158</td>\n      <td>0.375</td>\n      <td>1.888889</td>\n      <td>2.5</td>\n      <td>NaN</td>\n      <td>0.058824</td>\n      <td>0.352941</td>\n      <td>0.039216</td>\n      <td>0.0</td>\n      <td>0.512821</td>\n      <td>4.0</td>\n      <td>0.375</td>\n      <td>9.0</td>\n      <td>18.0</td>\n      <td>14.0</td>\n      <td>0.6</td>\n      <td>10.0</td>\n      <td>1.2</td>\n      <td>2.8</td>\n      <td>11.4</td>\n      <td>0.0</td>\n      <td>4.8</td>\n      <td>1.0</td>\n      <td>1.6</td>\n      <td>0.633333</td>\n      <td>0.411111</td>\n      <td>0.777778</td>\n      <td>0.0</td>\n      <td>2.083333</td>\n      <td>1.2</td>\n      <td>1.75</td>\n      <td>0.0</td>\n      <td>0.421053</td>\n      <td>0.087719</td>\n      <td>0.140351</td>\n      <td>0.528571</td>\n      <td>7.4</td>\n      <td>0.0</td>\n      <td>0.0</td>\n      <td>39825</td>\n      <td>Las Vegas</td>\n      <td>True</td>\n      <td>USA</td>\n      <td>300.0</td>\n      <td>2020-01-18</td>\n      <td>619</td>\n      <td>1932</td>\n      <td>UFC 246</td>\n      <td>3.0</td>\n      <td>America/Los_Angeles</td>\n      <td>Не определена</td>\n      <td></td>\n      <td>1932.0</td>\n      <td>2.19</td>\n      <td>1.70</td>\n      <td>False</td>\n      <td>1</td>\n      <td>0</td>\n      <td>0</td>\n      <td>0</td>\n      <td>0</td>\n      <td>1</td>\n      <td>0</td>\n      <td>0</td>\n      <td>3</td>\n      <td>1</td>\n      <td>0</td>\n      <td>0</td>\n      <td>0</td>\n      <td>0</td>\n      <td>0</td>\n      <td>0</td>\n      <td>0</td>\n      <td>0</td>\n    </tr>\n    <tr>\n      <th>6422</th>\n      <td>12.071006</td>\n      <td>4.260355</td>\n      <td>0.710059</td>\n      <td>1.775148</td>\n      <td>0.0</td>\n      <td>2.485207</td>\n      <td>9.940828</td>\n      <td>0.35503</td>\n      <td>1.065089</td>\n      <td>0.0</td>\n      <td>1.420118</td>\n      <td>0.823529</td>\n      <td>0.205882</td>\n      <td>0.352941</td>\n      <td>0.5</td>\n      <td>1.666667</td>\n      <td>NaN</td>\n      <td>1.75</td>\n      <td>0.035714</td>\n      <td>0.107143</td>\n      <td>0.0</td>\n      <td>0.142857</td>\n      <td>0.583333</td>\n      <td>2.485207</td>\n      <td>0.5</td>\n      <td>5.325444</td>\n      <td>8.87574</td>\n      <td>4.970414</td>\n      <td>0.0</td>\n      <td>2.840237</td>\n      <td>0.35503</td>\n      <td>1.775148</td>\n      <td>6.745562</td>\n      <td>0.0</td>\n      <td>1.065089</td>\n      <td>0.35503</td>\n      <td>1.775148</td>\n      <td>0.76</td>\n      <td>0.36</td>\n      <td>0.56</td>\n      <td>NaN</td>\n      <td>2.666667</td>\n      <td>1.0</td>\n      <td>1.0</td>\n      <td>0.0</td>\n      <td>0.157895</td>\n      <td>0.052632</td>\n      <td>0.263158</td>\n      <td>0.642857</td>\n      <td>3.195266</td>\n      <td>NaN</td>\n      <td>0.0</td>\n      <td>39826</td>\n      <td>Las Vegas</td>\n      <td>True</td>\n      <td>USA</td>\n      <td>169.0</td>\n      <td>2020-01-18</td>\n      <td>550</td>\n      <td>2905</td>\n      <td>UFC 246</td>\n      <td>1.0</td>\n      <td>America/Los_Angeles</td>\n      <td>Не определена</td>\n      <td></td>\n      <td>550.0</td>\n      <td>2.13</td>\n      <td>1.73</td>\n      <td>True</td>\n      <td>0</td>\n      <td>0</td>\n      <td>0</td>\n      <td>0</td>\n      <td>1</td>\n      <td>1</td>\n      <td>0</td>\n      <td>0</td>\n      <td>1</td>\n      <td>0</td>\n      <td>0</td>\n      <td>0</td>\n      <td>0</td>\n      <td>0</td>\n      <td>0</td>\n      <td>0</td>\n      <td>0</td>\n      <td>0</td>\n    </tr>\n    <tr>\n      <th>6423</th>\n      <td>20.2</td>\n      <td>17.6</td>\n      <td>0.0</td>\n      <td>16.2</td>\n      <td>1.4</td>\n      <td>0.0</td>\n      <td>8.8</td>\n      <td>0.0</td>\n      <td>5.2</td>\n      <td>1.0</td>\n      <td>0.0</td>\n      <td>0.435644</td>\n      <td>0.306931</td>\n      <td>0.871287</td>\n      <td>NaN</td>\n      <td>3.115385</td>\n      <td>1.4</td>\n      <td>NaN</td>\n      <td>0.0</td>\n      <td>0.590909</td>\n      <td>0.113636</td>\n      <td>0.0</td>\n      <td>0.352273</td>\n      <td>6.2</td>\n      <td>NaN</td>\n      <td>0.0</td>\n      <td>23.2</td>\n      <td>22.8</td>\n      <td>0.2</td>\n      <td>18.8</td>\n      <td>4.0</td>\n      <td>0.0</td>\n      <td>11.6</td>\n      <td>0.0</td>\n      <td>8.4</td>\n      <td>2.8</td>\n      <td>0.0</td>\n      <td>0.5</td>\n      <td>0.482759</td>\n      <td>0.982759</td>\n      <td>0.0</td>\n      <td>2.238095</td>\n      <td>1.428571</td>\n      <td>NaN</td>\n      <td>0.0</td>\n      <td>0.724138</td>\n      <td>0.241379</td>\n      <td>0.0</td>\n      <td>0.491228</td>\n      <td>11.2</td>\n      <td>0.0</td>\n      <td>0.0</td>\n      <td>39827</td>\n      <td>Las Vegas</td>\n      <td>True</td>\n      <td>USA</td>\n      <td>300.0</td>\n      <td>2020-01-18</td>\n      <td>544</td>\n      <td>2121</td>\n      <td>UFC 246</td>\n      <td>3.0</td>\n      <td>America/Los_Angeles</td>\n      <td>Не определена</td>\n      <td></td>\n      <td>2121.0</td>\n      <td>2.06</td>\n      <td>1.78</td>\n      <td>False</td>\n      <td>1</td>\n      <td>0</td>\n      <td>0</td>\n      <td>0</td>\n      <td>0</td>\n      <td>1</td>\n      <td>0</td>\n      <td>0</td>\n      <td>2</td>\n      <td>0</td>\n      <td>0</td>\n      <td>0</td>\n      <td>0</td>\n      <td>0</td>\n      <td>0</td>\n      <td>0</td>\n      <td>0</td>\n      <td>0</td>\n    </tr>\n    <tr>\n      <th>6424</th>\n      <td>30.4</td>\n      <td>29.0</td>\n      <td>1.4</td>\n      <td>28.0</td>\n      <td>0.8</td>\n      <td>0.2</td>\n      <td>11.2</td>\n      <td>0.6</td>\n      <td>9.2</td>\n      <td>0.6</td>\n      <td>0.0</td>\n      <td>0.368421</td>\n      <td>0.322368</td>\n      <td>0.953947</td>\n      <td>0.428571</td>\n      <td>3.043478</td>\n      <td>1.333333</td>\n      <td>NaN</td>\n      <td>0.053571</td>\n      <td>0.821429</td>\n      <td>0.053571</td>\n      <td>0.0</td>\n      <td>0.337931</td>\n      <td>9.8</td>\n      <td>0.428571</td>\n      <td>9.0</td>\n      <td>35.4</td>\n      <td>31.0</td>\n      <td>0.0</td>\n      <td>24.0</td>\n      <td>1.0</td>\n      <td>6.0</td>\n      <td>18.0</td>\n      <td>0.0</td>\n      <td>10.0</td>\n      <td>0.6</td>\n      <td>4.0</td>\n      <td>0.508475</td>\n      <td>0.412429</td>\n      <td>0.875706</td>\n      <td>NaN</td>\n      <td>2.4</td>\n      <td>1.666667</td>\n      <td>1.5</td>\n      <td>0.0</td>\n      <td>0.555556</td>\n      <td>0.033333</td>\n      <td>0.222222</td>\n      <td>0.470968</td>\n      <td>14.6</td>\n      <td>NaN</td>\n      <td>0.0</td>\n      <td>39807</td>\n      <td>Las Vegas</td>\n      <td>True</td>\n      <td>USA</td>\n      <td>300.0</td>\n      <td>2020-01-18</td>\n      <td>407</td>\n      <td>521</td>\n      <td>UFC 246</td>\n      <td>3.0</td>\n      <td>America/Los_Angeles</td>\n      <td>Не определена</td>\n      <td></td>\n      <td>521.0</td>\n      <td>2.17</td>\n      <td>1.70</td>\n      <td>False</td>\n      <td>1</td>\n      <td>0</td>\n      <td>0</td>\n      <td>0</td>\n      <td>0</td>\n      <td>1</td>\n      <td>0</td>\n      <td>0</td>\n      <td>5</td>\n      <td>1</td>\n      <td>0</td>\n      <td>0</td>\n      <td>0</td>\n      <td>0</td>\n      <td>0</td>\n      <td>0</td>\n      <td>0</td>\n      <td>0</td>\n    </tr>\n    <tr>\n      <th>...</th>\n      <td>...</td>\n      <td>...</td>\n      <td>...</td>\n      <td>...</td>\n      <td>...</td>\n      <td>...</td>\n      <td>...</td>\n      <td>...</td>\n      <td>...</td>\n      <td>...</td>\n      <td>...</td>\n      <td>...</td>\n      <td>...</td>\n      <td>...</td>\n      <td>...</td>\n      <td>...</td>\n      <td>...</td>\n      <td>...</td>\n      <td>...</td>\n      <td>...</td>\n      <td>...</td>\n      <td>...</td>\n      <td>...</td>\n      <td>...</td>\n      <td>...</td>\n      <td>...</td>\n      <td>...</td>\n      <td>...</td>\n      <td>...</td>\n      <td>...</td>\n      <td>...</td>\n      <td>...</td>\n      <td>...</td>\n      <td>...</td>\n      <td>...</td>\n      <td>...</td>\n      <td>...</td>\n      <td>...</td>\n      <td>...</td>\n      <td>...</td>\n      <td>...</td>\n      <td>...</td>\n      <td>...</td>\n      <td>...</td>\n      <td>...</td>\n      <td>...</td>\n      <td>...</td>\n      <td>...</td>\n      <td>...</td>\n      <td>...</td>\n      <td>...</td>\n      <td>...</td>\n      <td>...</td>\n      <td>...</td>\n      <td>...</td>\n      <td>...</td>\n      <td>...</td>\n      <td>...</td>\n      <td>...</td>\n      <td>...</td>\n      <td>...</td>\n      <td>...</td>\n      <td>...</td>\n      <td>...</td>\n      <td>...</td>\n      <td>...</td>\n      <td>...</td>\n      <td>...</td>\n      <td>...</td>\n      <td>...</td>\n      <td>...</td>\n      <td>...</td>\n      <td>...</td>\n      <td>...</td>\n      <td>...</td>\n      <td>...</td>\n      <td>...</td>\n      <td>...</td>\n      <td>...</td>\n      <td>...</td>\n      <td>...</td>\n      <td>...</td>\n      <td>...</td>\n      <td>...</td>\n      <td>...</td>\n      <td>...</td>\n      <td>...</td>\n    </tr>\n    <tr>\n      <th>6990</th>\n      <td>26.6</td>\n      <td>16.4</td>\n      <td>0.6</td>\n      <td>13.8</td>\n      <td>2.6</td>\n      <td>0.0</td>\n      <td>18.4</td>\n      <td>0.0</td>\n      <td>6.8</td>\n      <td>2.4</td>\n      <td>0.0</td>\n      <td>0.691729</td>\n      <td>0.345865</td>\n      <td>0.616541</td>\n      <td>0.0</td>\n      <td>2.029412</td>\n      <td>1.083333</td>\n      <td>NaN</td>\n      <td>0.0</td>\n      <td>0.369565</td>\n      <td>0.130435</td>\n      <td>0.0</td>\n      <td>0.560976</td>\n      <td>9.2</td>\n      <td>0.0</td>\n      <td>0.0</td>\n      <td>17.2</td>\n      <td>14.0</td>\n      <td>0.4</td>\n      <td>12.4</td>\n      <td>1.6</td>\n      <td>0.0</td>\n      <td>12.0</td>\n      <td>0.0</td>\n      <td>7.2</td>\n      <td>1.6</td>\n      <td>0.0</td>\n      <td>0.697674</td>\n      <td>0.511628</td>\n      <td>0.813953</td>\n      <td>0.0</td>\n      <td>1.722222</td>\n      <td>1.0</td>\n      <td>NaN</td>\n      <td>0.0</td>\n      <td>0.6</td>\n      <td>0.133333</td>\n      <td>0.0</td>\n      <td>0.628571</td>\n      <td>8.8</td>\n      <td>0.0</td>\n      <td>0.0</td>\n      <td>40351</td>\n      <td>Las Vegas</td>\n      <td>True</td>\n      <td>USA</td>\n      <td>300.0</td>\n      <td>2020-12-19</td>\n      <td>68</td>\n      <td>571</td>\n      <td>UFC Fight Night</td>\n      <td>3.0</td>\n      <td>America/Los_Angeles</td>\n      <td>Легчайший вес</td>\n      <td></td>\n      <td>571.0</td>\n      <td>2.32</td>\n      <td>1.65</td>\n      <td>False</td>\n      <td>1</td>\n      <td>0</td>\n      <td>0</td>\n      <td>0</td>\n      <td>0</td>\n      <td>1</td>\n      <td>3</td>\n      <td>3</td>\n      <td>1</td>\n      <td>6</td>\n      <td>0</td>\n      <td>0</td>\n      <td>0</td>\n      <td>0</td>\n      <td>0</td>\n      <td>0</td>\n      <td>0</td>\n      <td>0</td>\n    </tr>\n    <tr>\n      <th>6991</th>\n      <td>18.8</td>\n      <td>15.8</td>\n      <td>0.4</td>\n      <td>13.4</td>\n      <td>2.0</td>\n      <td>0.4</td>\n      <td>11.2</td>\n      <td>0.4</td>\n      <td>6.6</td>\n      <td>1.8</td>\n      <td>0.4</td>\n      <td>0.595745</td>\n      <td>0.468085</td>\n      <td>0.840426</td>\n      <td>1.0</td>\n      <td>2.030303</td>\n      <td>1.111111</td>\n      <td>1.0</td>\n      <td>0.035714</td>\n      <td>0.589286</td>\n      <td>0.160714</td>\n      <td>0.035714</td>\n      <td>0.556962</td>\n      <td>8.8</td>\n      <td>1.0</td>\n      <td>6.0</td>\n      <td>26.8</td>\n      <td>25.4</td>\n      <td>0.0</td>\n      <td>22.8</td>\n      <td>2.6</td>\n      <td>0.0</td>\n      <td>12.4</td>\n      <td>0.0</td>\n      <td>9.6</td>\n      <td>1.4</td>\n      <td>0.0</td>\n      <td>0.462687</td>\n      <td>0.410448</td>\n      <td>0.947761</td>\n      <td>NaN</td>\n      <td>2.375</td>\n      <td>1.857143</td>\n      <td>NaN</td>\n      <td>0.0</td>\n      <td>0.774194</td>\n      <td>0.112903</td>\n      <td>0.0</td>\n      <td>0.433071</td>\n      <td>11.0</td>\n      <td>NaN</td>\n      <td>0.0</td>\n      <td>40352</td>\n      <td>Las Vegas</td>\n      <td>True</td>\n      <td>USA</td>\n      <td>300.0</td>\n      <td>2020-12-19</td>\n      <td>286</td>\n      <td>3419</td>\n      <td>UFC Fight Night</td>\n      <td>3.0</td>\n      <td>America/Los_Angeles</td>\n      <td>Полусредний вес</td>\n      <td></td>\n      <td>286.0</td>\n      <td>1.83</td>\n      <td>2.06</td>\n      <td>True</td>\n      <td>1</td>\n      <td>0</td>\n      <td>0</td>\n      <td>0</td>\n      <td>0</td>\n      <td>1</td>\n      <td>3</td>\n      <td>3</td>\n      <td>0</td>\n      <td>0</td>\n      <td>0</td>\n      <td>0</td>\n      <td>0</td>\n      <td>0</td>\n      <td>0</td>\n      <td>0</td>\n      <td>0</td>\n      <td>0</td>\n    </tr>\n    <tr>\n      <th>6992</th>\n      <td>17.8</td>\n      <td>7.6</td>\n      <td>3.2</td>\n      <td>7.0</td>\n      <td>0.4</td>\n      <td>0.2</td>\n      <td>12.8</td>\n      <td>2.4</td>\n      <td>3.6</td>\n      <td>0.4</td>\n      <td>0.0</td>\n      <td>0.719101</td>\n      <td>0.224719</td>\n      <td>0.426966</td>\n      <td>0.75</td>\n      <td>1.944444</td>\n      <td>1.0</td>\n      <td>NaN</td>\n      <td>0.1875</td>\n      <td>0.28125</td>\n      <td>0.03125</td>\n      <td>0.0</td>\n      <td>0.526316</td>\n      <td>4.0</td>\n      <td>0.75</td>\n      <td>36.0</td>\n      <td>17.4</td>\n      <td>12.4</td>\n      <td>0.0</td>\n      <td>12.0</td>\n      <td>0.0</td>\n      <td>0.4</td>\n      <td>14.0</td>\n      <td>0.0</td>\n      <td>8.6</td>\n      <td>0.0</td>\n      <td>0.4</td>\n      <td>0.804598</td>\n      <td>0.517241</td>\n      <td>0.712644</td>\n      <td>NaN</td>\n      <td>1.395349</td>\n      <td>NaN</td>\n      <td>1.0</td>\n      <td>0.0</td>\n      <td>0.614286</td>\n      <td>0.0</td>\n      <td>0.028571</td>\n      <td>0.725806</td>\n      <td>9.0</td>\n      <td>NaN</td>\n      <td>0.0</td>\n      <td>40354</td>\n      <td>Las Vegas</td>\n      <td>True</td>\n      <td>USA</td>\n      <td>300.0</td>\n      <td>2020-12-19</td>\n      <td>653</td>\n      <td>1995</td>\n      <td>UFC Fight Night</td>\n      <td>3.0</td>\n      <td>America/Los_Angeles</td>\n      <td>Средний вес</td>\n      <td></td>\n      <td>653.0</td>\n      <td>2.41</td>\n      <td>1.61</td>\n      <td>True</td>\n      <td>1</td>\n      <td>0</td>\n      <td>0</td>\n      <td>0</td>\n      <td>0</td>\n      <td>1</td>\n      <td>3</td>\n      <td>3</td>\n      <td>1</td>\n      <td>0</td>\n      <td>0</td>\n      <td>0</td>\n      <td>0</td>\n      <td>0</td>\n      <td>0</td>\n      <td>0</td>\n      <td>0</td>\n      <td>0</td>\n    </tr>\n    <tr>\n      <th>6993</th>\n      <td>37.4</td>\n      <td>28.6</td>\n      <td>0.4</td>\n      <td>22.8</td>\n      <td>5.6</td>\n      <td>0.2</td>\n      <td>26.4</td>\n      <td>0.0</td>\n      <td>13.0</td>\n      <td>5.2</td>\n      <td>0.2</td>\n      <td>0.705882</td>\n      <td>0.491979</td>\n      <td>0.764706</td>\n      <td>0.0</td>\n      <td>1.753846</td>\n      <td>1.076923</td>\n      <td>1.0</td>\n      <td>0.0</td>\n      <td>0.492424</td>\n      <td>0.19697</td>\n      <td>0.007576</td>\n      <td>0.643357</td>\n      <td>18.4</td>\n      <td>0.0</td>\n      <td>0.0</td>\n      <td>26.2</td>\n      <td>20.8</td>\n      <td>0.8</td>\n      <td>18.0</td>\n      <td>1.4</td>\n      <td>1.4</td>\n      <td>14.0</td>\n      <td>0.4</td>\n      <td>7.6</td>\n      <td>0.8</td>\n      <td>1.4</td>\n      <td>0.534351</td>\n      <td>0.374046</td>\n      <td>0.793893</td>\n      <td>0.5</td>\n      <td>2.368421</td>\n      <td>1.75</td>\n      <td>1.0</td>\n      <td>0.028571</td>\n      <td>0.542857</td>\n      <td>0.057143</td>\n      <td>0.1</td>\n      <td>0.471154</td>\n      <td>9.8</td>\n      <td>0.5</td>\n      <td>6.0</td>\n      <td>40356</td>\n      <td>Las Vegas</td>\n      <td>True</td>\n      <td>USA</td>\n      <td>300.0</td>\n      <td>2020-12-19</td>\n      <td>161</td>\n      <td>667</td>\n      <td>UFC Fight Night</td>\n      <td>3.0</td>\n      <td>America/Los_Angeles</td>\n      <td>Женский легчайший вес</td>\n      <td></td>\n      <td>161.0</td>\n      <td>2.36</td>\n      <td>1.64</td>\n      <td>True</td>\n      <td>1</td>\n      <td>0</td>\n      <td>0</td>\n      <td>0</td>\n      <td>0</td>\n      <td>1</td>\n      <td>3</td>\n      <td>3</td>\n      <td>1</td>\n      <td>4</td>\n      <td>0</td>\n      <td>0</td>\n      <td>0</td>\n      <td>0</td>\n      <td>0</td>\n      <td>0</td>\n      <td>0</td>\n      <td>0</td>\n    </tr>\n    <tr>\n      <th>6994</th>\n      <td>20.4</td>\n      <td>15.6</td>\n      <td>1.0</td>\n      <td>14.0</td>\n      <td>0.2</td>\n      <td>1.4</td>\n      <td>10.0</td>\n      <td>0.2</td>\n      <td>5.2</td>\n      <td>0.0</td>\n      <td>1.0</td>\n      <td>0.490196</td>\n      <td>0.303922</td>\n      <td>0.764706</td>\n      <td>0.2</td>\n      <td>2.692308</td>\n      <td>NaN</td>\n      <td>1.4</td>\n      <td>0.02</td>\n      <td>0.52</td>\n      <td>0.0</td>\n      <td>0.1</td>\n      <td>0.397436</td>\n      <td>6.2</td>\n      <td>0.2</td>\n      <td>3.0</td>\n      <td>23.0</td>\n      <td>16.0</td>\n      <td>0.2</td>\n      <td>15.0</td>\n      <td>0.6</td>\n      <td>0.4</td>\n      <td>16.0</td>\n      <td>0.0</td>\n      <td>9.6</td>\n      <td>0.2</td>\n      <td>0.2</td>\n      <td>0.695652</td>\n      <td>0.434783</td>\n      <td>0.695652</td>\n      <td>0.0</td>\n      <td>1.5625</td>\n      <td>3.0</td>\n      <td>2.0</td>\n      <td>0.0</td>\n      <td>0.6</td>\n      <td>0.0125</td>\n      <td>0.0125</td>\n      <td>0.625</td>\n      <td>10.0</td>\n      <td>0.0</td>\n      <td>0.0</td>\n      <td>40383</td>\n      <td>Las Vegas</td>\n      <td>True</td>\n      <td>USA</td>\n      <td>300.0</td>\n      <td>2020-12-19</td>\n      <td>244</td>\n      <td>292</td>\n      <td>UFC Fight Night</td>\n      <td>3.0</td>\n      <td>America/Los_Angeles</td>\n      <td>Полусредний вес</td>\n      <td></td>\n      <td>292.0</td>\n      <td>2.89</td>\n      <td>1.44</td>\n      <td>False</td>\n      <td>1</td>\n      <td>0</td>\n      <td>0</td>\n      <td>0</td>\n      <td>0</td>\n      <td>1</td>\n      <td>3</td>\n      <td>3</td>\n      <td>5</td>\n      <td>3</td>\n      <td>0</td>\n      <td>0</td>\n      <td>0</td>\n      <td>0</td>\n      <td>0</td>\n      <td>0</td>\n      <td>0</td>\n      <td>0</td>\n    </tr>\n  </tbody>\n</table>\n<p>422 rows × 87 columns</p>\n</div>"
     },
     "execution_count": 168,
     "metadata": {},
     "output_type": "execute_result"
    }
   ],
   "source": [
    "valid_df"
   ]
  },
  {
   "cell_type": "markdown",
   "source": [
    "### Combine"
   ],
   "metadata": {
    "collapsed": false,
    "pycharm": {
     "name": "#%% md\n"
    }
   }
  },
  {
   "cell_type": "code",
   "execution_count": 170,
   "outputs": [],
   "source": [
    "def combine_df(to_combine_df):\n",
    "    df_combined = pd.DataFrame(to_combine_df[fighter1_cols].values - to_combine_df[fighter2_cols].values,\n",
    "                               index=to_combine_df.index)\n",
    "\n",
    "    df_combined.columns = fightStats_cols\n",
    "    df_combined['eventDate_date'] = to_combine_df['eventDate_date']\n",
    "    df_combined['winner'] = to_combine_df['winner']\n",
    "    df_combined['odd_diff'] = to_combine_df['odd1'] - to_combine_df['odd2']\n",
    "    df_combined['fighter1_fightsAmount'] = to_combine_df['fighter1_fightsAmount']\n",
    "    df_combined['fighter2_fightsAmount'] = to_combine_df['fighter2_fightsAmount']\n",
    "\n",
    "    df_combined['odd1'] = to_combine_df['odd1']\n",
    "    df_combined['odd2'] = to_combine_df['odd2']\n",
    "    return df_combined"
   ],
   "metadata": {
    "collapsed": false,
    "pycharm": {
     "name": "#%%\n"
    }
   }
  },
  {
   "cell_type": "code",
   "execution_count": 171,
   "outputs": [],
   "source": [
    "train_df_combined = combine_df(train_df)\n",
    "valid_df_combined = combine_df(valid_df)"
   ],
   "metadata": {
    "collapsed": false,
    "pycharm": {
     "name": "#%%\n"
    }
   }
  },
  {
   "cell_type": "code",
   "execution_count": 172,
   "outputs": [],
   "source": [
    "train_df_combined.to_csv('data/train_combined.csv')\n",
    "valid_df_combined.to_csv('data/valid_combined.csv')"
   ],
   "metadata": {
    "collapsed": false,
    "pycharm": {
     "name": "#%%\n"
    }
   }
  },
  {
   "cell_type": "code",
   "execution_count": null,
   "outputs": [],
   "source": [],
   "metadata": {
    "collapsed": false,
    "pycharm": {
     "name": "#%%\n"
    }
   }
  },
  {
   "cell_type": "code",
   "execution_count": null,
   "outputs": [],
   "source": [],
   "metadata": {
    "collapsed": false,
    "pycharm": {
     "name": "#%%\n"
    }
   }
  },
  {
   "cell_type": "code",
   "execution_count": null,
   "outputs": [],
   "source": [],
   "metadata": {
    "collapsed": false,
    "pycharm": {
     "name": "#%%\n"
    }
   }
  },
  {
   "cell_type": "markdown",
   "source": [
    "## Задача 3: Разделение датасета\n",
    "условия:\n",
    "* есть список с общими фичами (данные про бой: дата, место и т.п.)\n",
    "* есть список с фичами для бойца (без учета индекса \"f1_\" \"f2_\"\n",
    "* есть датасет и запись с боем для расчета.\n",
    "нужно\n",
    "* получить две записи с бойцами по этому бою\n",
    "\n",
    "Далее - разделить датасет по дате до 2020 года (train) и после 2020 (valid)\n",
    "(еще вариант - оставить на тест 2021 год отдельно)\n"
   ],
   "metadata": {
    "collapsed": false,
    "pycharm": {
     "name": "#%% md\n"
    }
   }
  },
  {
   "cell_type": "code",
   "execution_count": null,
   "metadata": {
    "pycharm": {
     "name": "#%%\n"
    }
   },
   "outputs": [],
   "source": []
  },
  {
   "cell_type": "code",
   "execution_count": null,
   "metadata": {
    "pycharm": {
     "name": "#%%\n"
    }
   },
   "outputs": [],
   "source": []
  },
  {
   "cell_type": "markdown",
   "metadata": {
    "pycharm": {
     "name": "#%% md\n"
    }
   },
   "source": [
    "## Этап II. Проверка - подбор моделей\n",
    "* feature_importance\n",
    "* cross correlation\n"
   ]
  },
  {
   "cell_type": "code",
   "execution_count": null,
   "metadata": {
    "pycharm": {
     "name": "#%%\n"
    }
   },
   "outputs": [],
   "source": []
  },
  {
   "cell_type": "markdown",
   "metadata": {
    "pycharm": {
     "name": "#%% md\n"
    }
   },
   "source": [
    "## Этап III. Prediction\n",
    "* расчет результата предсказания для каждого бойца\n",
    "* интрепретация с учетом боя (найдем вероятности из предсказания и возьмем победителя с большим значением)\n",
    "* расчет метрики по 2020 году."
   ]
  },
  {
   "cell_type": "code",
   "execution_count": null,
   "metadata": {
    "pycharm": {
     "name": "#%%\n"
    }
   },
   "outputs": [],
   "source": []
  },
  {
   "cell_type": "markdown",
   "metadata": {
    "pycharm": {
     "name": "#%% md\n"
    }
   },
   "source": []
  }
 ],
 "metadata": {
  "kernelspec": {
   "display_name": "Python 3 (ipykernel)",
   "language": "python",
   "name": "python3"
  },
  "language_info": {
   "codemirror_mode": {
    "name": "ipython",
    "version": 3
   },
   "file_extension": ".py",
   "mimetype": "text/x-python",
   "name": "python",
   "nbconvert_exporter": "python",
   "pygments_lexer": "ipython3",
   "version": "3.9.7"
  }
 },
 "nbformat": 4,
 "nbformat_minor": 1
}